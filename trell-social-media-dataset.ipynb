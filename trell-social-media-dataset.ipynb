{
 "cells": [
  {
   "cell_type": "markdown",
   "id": "ff567da1",
   "metadata": {
    "papermill": {
     "duration": 0.09673,
     "end_time": "2022-05-08T11:38:31.755282",
     "exception": false,
     "start_time": "2022-05-08T11:38:31.658552",
     "status": "completed"
    },
    "tags": []
   },
   "source": [
    "# trell social media usage data\n",
    "\n",
    "## The goal is to predict the age group\n",
    "\n",
    "#### In this world of big data, Trell wants you to use the data to predict the age group of their users based on their activity on social media activities. This will help them to divide their huge userbase and cater differently to each of them.\n",
    "\n",
    "https://trell.co/watch/\n",
    "\n",
    "\n",
    "The resource of the dataset:\n",
    "\n",
    "https://www.kaggle.com/adityak80/trell-social-media-usage-data"
   ]
  },
  {
   "cell_type": "code",
   "execution_count": 1,
   "id": "63074e60",
   "metadata": {
    "execution": {
     "iopub.execute_input": "2022-05-08T11:38:31.942555Z",
     "iopub.status.busy": "2022-05-08T11:38:31.941927Z",
     "iopub.status.idle": "2022-05-08T11:38:35.321491Z",
     "shell.execute_reply": "2022-05-08T11:38:35.320595Z"
    },
    "papermill": {
     "duration": 3.477313,
     "end_time": "2022-05-08T11:38:35.324445",
     "exception": false,
     "start_time": "2022-05-08T11:38:31.847132",
     "status": "completed"
    },
    "tags": []
   },
   "outputs": [],
   "source": [
    "import pandas as pd\n",
    "import seaborn as sns \n",
    "import matplotlib.pyplot as plt\n",
    "%matplotlib inline\n",
    "df = pd.read_csv('../input/trell-social-media-usage-data/train_age_dataset.csv')"
   ]
  },
  {
   "cell_type": "code",
   "execution_count": 2,
   "id": "c238b293",
   "metadata": {
    "execution": {
     "iopub.execute_input": "2022-05-08T11:38:35.507312Z",
     "iopub.status.busy": "2022-05-08T11:38:35.507023Z",
     "iopub.status.idle": "2022-05-08T11:38:35.510897Z",
     "shell.execute_reply": "2022-05-08T11:38:35.509880Z"
    },
    "papermill": {
     "duration": 0.098418,
     "end_time": "2022-05-08T11:38:35.513288",
     "exception": false,
     "start_time": "2022-05-08T11:38:35.414870",
     "status": "completed"
    },
    "tags": []
   },
   "outputs": [],
   "source": [
    "import warnings\n",
    "warnings.filterwarnings('ignore')"
   ]
  },
  {
   "cell_type": "markdown",
   "id": "7f92f72b",
   "metadata": {
    "papermill": {
     "duration": 0.090803,
     "end_time": "2022-05-08T11:38:35.696286",
     "exception": false,
     "start_time": "2022-05-08T11:38:35.605483",
     "status": "completed"
    },
    "tags": []
   },
   "source": [
    "## Observe the dataset"
   ]
  },
  {
   "cell_type": "code",
   "execution_count": 3,
   "id": "f984595e",
   "metadata": {
    "execution": {
     "iopub.execute_input": "2022-05-08T11:38:35.880997Z",
     "iopub.status.busy": "2022-05-08T11:38:35.879795Z",
     "iopub.status.idle": "2022-05-08T11:38:35.887751Z",
     "shell.execute_reply": "2022-05-08T11:38:35.887026Z"
    },
    "papermill": {
     "duration": 0.101375,
     "end_time": "2022-05-08T11:38:35.889859",
     "exception": false,
     "start_time": "2022-05-08T11:38:35.788484",
     "status": "completed"
    },
    "tags": []
   },
   "outputs": [
    {
     "data": {
      "text/plain": [
       "(488877, 27)"
      ]
     },
     "execution_count": 3,
     "metadata": {},
     "output_type": "execute_result"
    }
   ],
   "source": [
    "df.shape"
   ]
  },
  {
   "cell_type": "code",
   "execution_count": 4,
   "id": "62386e89",
   "metadata": {
    "execution": {
     "iopub.execute_input": "2022-05-08T11:38:36.073091Z",
     "iopub.status.busy": "2022-05-08T11:38:36.072802Z",
     "iopub.status.idle": "2022-05-08T11:38:36.079073Z",
     "shell.execute_reply": "2022-05-08T11:38:36.078166Z"
    },
    "papermill": {
     "duration": 0.100236,
     "end_time": "2022-05-08T11:38:36.080988",
     "exception": false,
     "start_time": "2022-05-08T11:38:35.980752",
     "status": "completed"
    },
    "tags": []
   },
   "outputs": [
    {
     "data": {
      "text/plain": [
       "Index(['Unnamed: 0', 'userId', 'tier', 'gender', 'following_rate',\n",
       "       'followers_avg_age', 'following_avg_age', 'max_repetitive_punc',\n",
       "       'num_of_hashtags_per_action', 'emoji_count_per_action',\n",
       "       'punctuations_per_action', 'number_of_words_per_action',\n",
       "       'avgCompletion', 'avgTimeSpent', 'avgDuration', 'avgComments',\n",
       "       'creations', 'content_views', 'num_of_comments',\n",
       "       'weekends_trails_watched_per_day', 'weekdays_trails_watched_per_day',\n",
       "       'slot1_trails_watched_per_day', 'slot2_trails_watched_per_day',\n",
       "       'slot3_trails_watched_per_day', 'slot4_trails_watched_per_day', 'avgt2',\n",
       "       'age_group'],\n",
       "      dtype='object')"
      ]
     },
     "execution_count": 4,
     "metadata": {},
     "output_type": "execute_result"
    }
   ],
   "source": [
    "df.columns"
   ]
  },
  {
   "cell_type": "code",
   "execution_count": 5,
   "id": "4f05aa93",
   "metadata": {
    "execution": {
     "iopub.execute_input": "2022-05-08T11:38:36.265291Z",
     "iopub.status.busy": "2022-05-08T11:38:36.264561Z",
     "iopub.status.idle": "2022-05-08T11:38:36.307369Z",
     "shell.execute_reply": "2022-05-08T11:38:36.306516Z"
    },
    "papermill": {
     "duration": 0.137509,
     "end_time": "2022-05-08T11:38:36.309746",
     "exception": false,
     "start_time": "2022-05-08T11:38:36.172237",
     "status": "completed"
    },
    "tags": []
   },
   "outputs": [],
   "source": [
    "df = df.drop('Unnamed: 0' , axis = 1)"
   ]
  },
  {
   "cell_type": "markdown",
   "id": "2445890c",
   "metadata": {
    "papermill": {
     "duration": 0.091366,
     "end_time": "2022-05-08T11:38:36.491635",
     "exception": false,
     "start_time": "2022-05-08T11:38:36.400269",
     "status": "completed"
    },
    "tags": []
   },
   "source": [
    "### Observe if there is any object type to convert it\n",
    "#### We apply this approach so we can get valuable information from the model later"
   ]
  },
  {
   "cell_type": "code",
   "execution_count": 6,
   "id": "e8c78143",
   "metadata": {
    "execution": {
     "iopub.execute_input": "2022-05-08T11:38:36.676036Z",
     "iopub.status.busy": "2022-05-08T11:38:36.675228Z",
     "iopub.status.idle": "2022-05-08T11:38:36.683622Z",
     "shell.execute_reply": "2022-05-08T11:38:36.682828Z"
    },
    "papermill": {
     "duration": 0.103113,
     "end_time": "2022-05-08T11:38:36.685530",
     "exception": false,
     "start_time": "2022-05-08T11:38:36.582417",
     "status": "completed"
    },
    "tags": []
   },
   "outputs": [
    {
     "data": {
      "text/plain": [
       "userId                               int64\n",
       "tier                                 int64\n",
       "gender                               int64\n",
       "following_rate                     float64\n",
       "followers_avg_age                  float64\n",
       "following_avg_age                  float64\n",
       "max_repetitive_punc                  int64\n",
       "num_of_hashtags_per_action         float64\n",
       "emoji_count_per_action             float64\n",
       "punctuations_per_action            float64\n",
       "number_of_words_per_action         float64\n",
       "avgCompletion                      float64\n",
       "avgTimeSpent                       float64\n",
       "avgDuration                        float64\n",
       "avgComments                          int64\n",
       "creations                          float64\n",
       "content_views                      float64\n",
       "num_of_comments                    float64\n",
       "weekends_trails_watched_per_day    float64\n",
       "weekdays_trails_watched_per_day    float64\n",
       "slot1_trails_watched_per_day       float64\n",
       "slot2_trails_watched_per_day       float64\n",
       "slot3_trails_watched_per_day       float64\n",
       "slot4_trails_watched_per_day       float64\n",
       "avgt2                              float64\n",
       "age_group                            int64\n",
       "dtype: object"
      ]
     },
     "execution_count": 6,
     "metadata": {},
     "output_type": "execute_result"
    }
   ],
   "source": [
    "df.dtypes"
   ]
  },
  {
   "cell_type": "code",
   "execution_count": 7,
   "id": "053e7950",
   "metadata": {
    "execution": {
     "iopub.execute_input": "2022-05-08T11:38:36.872369Z",
     "iopub.status.busy": "2022-05-08T11:38:36.872115Z",
     "iopub.status.idle": "2022-05-08T11:38:36.919107Z",
     "shell.execute_reply": "2022-05-08T11:38:36.917857Z"
    },
    "papermill": {
     "duration": 0.144437,
     "end_time": "2022-05-08T11:38:36.921437",
     "exception": false,
     "start_time": "2022-05-08T11:38:36.777000",
     "status": "completed"
    },
    "tags": []
   },
   "outputs": [
    {
     "name": "stdout",
     "output_type": "stream",
     "text": [
      "<class 'pandas.core.frame.DataFrame'>\n",
      "RangeIndex: 488877 entries, 0 to 488876\n",
      "Data columns (total 26 columns):\n",
      " #   Column                           Non-Null Count   Dtype  \n",
      "---  ------                           --------------   -----  \n",
      " 0   userId                           488877 non-null  int64  \n",
      " 1   tier                             488877 non-null  int64  \n",
      " 2   gender                           488877 non-null  int64  \n",
      " 3   following_rate                   488877 non-null  float64\n",
      " 4   followers_avg_age                488877 non-null  float64\n",
      " 5   following_avg_age                488877 non-null  float64\n",
      " 6   max_repetitive_punc              488877 non-null  int64  \n",
      " 7   num_of_hashtags_per_action       488877 non-null  float64\n",
      " 8   emoji_count_per_action           488877 non-null  float64\n",
      " 9   punctuations_per_action          488877 non-null  float64\n",
      " 10  number_of_words_per_action       488877 non-null  float64\n",
      " 11  avgCompletion                    488877 non-null  float64\n",
      " 12  avgTimeSpent                     488877 non-null  float64\n",
      " 13  avgDuration                      488877 non-null  float64\n",
      " 14  avgComments                      488877 non-null  int64  \n",
      " 15  creations                        488877 non-null  float64\n",
      " 16  content_views                    488877 non-null  float64\n",
      " 17  num_of_comments                  488877 non-null  float64\n",
      " 18  weekends_trails_watched_per_day  488877 non-null  float64\n",
      " 19  weekdays_trails_watched_per_day  488877 non-null  float64\n",
      " 20  slot1_trails_watched_per_day     488877 non-null  float64\n",
      " 21  slot2_trails_watched_per_day     488877 non-null  float64\n",
      " 22  slot3_trails_watched_per_day     488877 non-null  float64\n",
      " 23  slot4_trails_watched_per_day     488877 non-null  float64\n",
      " 24  avgt2                            488877 non-null  float64\n",
      " 25  age_group                        488877 non-null  int64  \n",
      "dtypes: float64(20), int64(6)\n",
      "memory usage: 97.0 MB\n"
     ]
    }
   ],
   "source": [
    "df.info()"
   ]
  },
  {
   "cell_type": "code",
   "execution_count": 8,
   "id": "4d8a3ff2",
   "metadata": {
    "execution": {
     "iopub.execute_input": "2022-05-08T11:38:37.108107Z",
     "iopub.status.busy": "2022-05-08T11:38:37.107258Z",
     "iopub.status.idle": "2022-05-08T11:38:37.139334Z",
     "shell.execute_reply": "2022-05-08T11:38:37.138466Z"
    },
    "papermill": {
     "duration": 0.127762,
     "end_time": "2022-05-08T11:38:37.141368",
     "exception": false,
     "start_time": "2022-05-08T11:38:37.013606",
     "status": "completed"
    },
    "tags": []
   },
   "outputs": [
    {
     "data": {
      "text/plain": [
       "userId                             0\n",
       "tier                               0\n",
       "gender                             0\n",
       "following_rate                     0\n",
       "followers_avg_age                  0\n",
       "following_avg_age                  0\n",
       "max_repetitive_punc                0\n",
       "num_of_hashtags_per_action         0\n",
       "emoji_count_per_action             0\n",
       "punctuations_per_action            0\n",
       "number_of_words_per_action         0\n",
       "avgCompletion                      0\n",
       "avgTimeSpent                       0\n",
       "avgDuration                        0\n",
       "avgComments                        0\n",
       "creations                          0\n",
       "content_views                      0\n",
       "num_of_comments                    0\n",
       "weekends_trails_watched_per_day    0\n",
       "weekdays_trails_watched_per_day    0\n",
       "slot1_trails_watched_per_day       0\n",
       "slot2_trails_watched_per_day       0\n",
       "slot3_trails_watched_per_day       0\n",
       "slot4_trails_watched_per_day       0\n",
       "avgt2                              0\n",
       "age_group                          0\n",
       "dtype: int64"
      ]
     },
     "execution_count": 8,
     "metadata": {},
     "output_type": "execute_result"
    }
   ],
   "source": [
    "df.isnull().sum()"
   ]
  },
  {
   "cell_type": "code",
   "execution_count": 9,
   "id": "f1e623c1",
   "metadata": {
    "execution": {
     "iopub.execute_input": "2022-05-08T11:38:37.329538Z",
     "iopub.status.busy": "2022-05-08T11:38:37.328858Z",
     "iopub.status.idle": "2022-05-08T11:38:37.825398Z",
     "shell.execute_reply": "2022-05-08T11:38:37.824452Z"
    },
    "papermill": {
     "duration": 0.593863,
     "end_time": "2022-05-08T11:38:37.828016",
     "exception": false,
     "start_time": "2022-05-08T11:38:37.234153",
     "status": "completed"
    },
    "tags": []
   },
   "outputs": [
    {
     "data": {
      "text/html": [
       "<div>\n",
       "<style scoped>\n",
       "    .dataframe tbody tr th:only-of-type {\n",
       "        vertical-align: middle;\n",
       "    }\n",
       "\n",
       "    .dataframe tbody tr th {\n",
       "        vertical-align: top;\n",
       "    }\n",
       "\n",
       "    .dataframe thead th {\n",
       "        text-align: right;\n",
       "    }\n",
       "</style>\n",
       "<table border=\"1\" class=\"dataframe\">\n",
       "  <thead>\n",
       "    <tr style=\"text-align: right;\">\n",
       "      <th></th>\n",
       "      <th>userId</th>\n",
       "      <th>tier</th>\n",
       "      <th>gender</th>\n",
       "      <th>following_rate</th>\n",
       "      <th>followers_avg_age</th>\n",
       "      <th>following_avg_age</th>\n",
       "      <th>max_repetitive_punc</th>\n",
       "      <th>num_of_hashtags_per_action</th>\n",
       "      <th>emoji_count_per_action</th>\n",
       "      <th>punctuations_per_action</th>\n",
       "      <th>...</th>\n",
       "      <th>content_views</th>\n",
       "      <th>num_of_comments</th>\n",
       "      <th>weekends_trails_watched_per_day</th>\n",
       "      <th>weekdays_trails_watched_per_day</th>\n",
       "      <th>slot1_trails_watched_per_day</th>\n",
       "      <th>slot2_trails_watched_per_day</th>\n",
       "      <th>slot3_trails_watched_per_day</th>\n",
       "      <th>slot4_trails_watched_per_day</th>\n",
       "      <th>avgt2</th>\n",
       "      <th>age_group</th>\n",
       "    </tr>\n",
       "  </thead>\n",
       "  <tbody>\n",
       "    <tr>\n",
       "      <th>count</th>\n",
       "      <td>4.888770e+05</td>\n",
       "      <td>488877.000000</td>\n",
       "      <td>488877.000000</td>\n",
       "      <td>488877.000000</td>\n",
       "      <td>488877.000000</td>\n",
       "      <td>488877.000000</td>\n",
       "      <td>488877.000000</td>\n",
       "      <td>488877.000000</td>\n",
       "      <td>488877.000000</td>\n",
       "      <td>488877.000000</td>\n",
       "      <td>...</td>\n",
       "      <td>488877.000000</td>\n",
       "      <td>488877.000000</td>\n",
       "      <td>488877.000000</td>\n",
       "      <td>488877.000000</td>\n",
       "      <td>488877.000000</td>\n",
       "      <td>488877.000000</td>\n",
       "      <td>488877.000000</td>\n",
       "      <td>488877.000000</td>\n",
       "      <td>488877.000000</td>\n",
       "      <td>488877.000000</td>\n",
       "    </tr>\n",
       "    <tr>\n",
       "      <th>mean</th>\n",
       "      <td>4.236096e+07</td>\n",
       "      <td>1.975382</td>\n",
       "      <td>1.213037</td>\n",
       "      <td>0.082233</td>\n",
       "      <td>0.347520</td>\n",
       "      <td>0.403049</td>\n",
       "      <td>0.739748</td>\n",
       "      <td>0.000277</td>\n",
       "      <td>0.000981</td>\n",
       "      <td>0.012805</td>\n",
       "      <td>...</td>\n",
       "      <td>0.391013</td>\n",
       "      <td>0.002009</td>\n",
       "      <td>0.074353</td>\n",
       "      <td>0.066927</td>\n",
       "      <td>0.032855</td>\n",
       "      <td>0.141705</td>\n",
       "      <td>0.150401</td>\n",
       "      <td>0.158382</td>\n",
       "      <td>164.765782</td>\n",
       "      <td>1.741643</td>\n",
       "    </tr>\n",
       "    <tr>\n",
       "      <th>std</th>\n",
       "      <td>1.821664e+07</td>\n",
       "      <td>0.430707</td>\n",
       "      <td>0.409454</td>\n",
       "      <td>2.467781</td>\n",
       "      <td>0.816334</td>\n",
       "      <td>0.925291</td>\n",
       "      <td>3.075954</td>\n",
       "      <td>0.012221</td>\n",
       "      <td>0.020381</td>\n",
       "      <td>0.159553</td>\n",
       "      <td>...</td>\n",
       "      <td>0.905303</td>\n",
       "      <td>0.030561</td>\n",
       "      <td>0.211094</td>\n",
       "      <td>0.174791</td>\n",
       "      <td>0.193962</td>\n",
       "      <td>0.402612</td>\n",
       "      <td>0.451999</td>\n",
       "      <td>0.502065</td>\n",
       "      <td>981.988886</td>\n",
       "      <td>1.088559</td>\n",
       "    </tr>\n",
       "    <tr>\n",
       "      <th>min</th>\n",
       "      <td>2.700000e+01</td>\n",
       "      <td>1.000000</td>\n",
       "      <td>1.000000</td>\n",
       "      <td>0.000000</td>\n",
       "      <td>0.000000</td>\n",
       "      <td>0.000000</td>\n",
       "      <td>0.000000</td>\n",
       "      <td>0.000000</td>\n",
       "      <td>0.000000</td>\n",
       "      <td>0.000000</td>\n",
       "      <td>...</td>\n",
       "      <td>0.000887</td>\n",
       "      <td>0.000000</td>\n",
       "      <td>0.000000</td>\n",
       "      <td>0.000000</td>\n",
       "      <td>0.000000</td>\n",
       "      <td>0.000000</td>\n",
       "      <td>0.000000</td>\n",
       "      <td>0.000000</td>\n",
       "      <td>0.000000</td>\n",
       "      <td>1.000000</td>\n",
       "    </tr>\n",
       "    <tr>\n",
       "      <th>25%</th>\n",
       "      <td>3.537599e+07</td>\n",
       "      <td>2.000000</td>\n",
       "      <td>1.000000</td>\n",
       "      <td>0.000000</td>\n",
       "      <td>0.000000</td>\n",
       "      <td>0.000000</td>\n",
       "      <td>0.000000</td>\n",
       "      <td>0.000000</td>\n",
       "      <td>0.000000</td>\n",
       "      <td>0.000000</td>\n",
       "      <td>...</td>\n",
       "      <td>0.040650</td>\n",
       "      <td>0.000000</td>\n",
       "      <td>0.000000</td>\n",
       "      <td>0.002265</td>\n",
       "      <td>0.000000</td>\n",
       "      <td>0.000000</td>\n",
       "      <td>0.000000</td>\n",
       "      <td>0.000000</td>\n",
       "      <td>0.000000</td>\n",
       "      <td>1.000000</td>\n",
       "    </tr>\n",
       "    <tr>\n",
       "      <th>50%</th>\n",
       "      <td>4.336270e+07</td>\n",
       "      <td>2.000000</td>\n",
       "      <td>1.000000</td>\n",
       "      <td>0.000000</td>\n",
       "      <td>0.000000</td>\n",
       "      <td>0.000000</td>\n",
       "      <td>0.000000</td>\n",
       "      <td>0.000000</td>\n",
       "      <td>0.000000</td>\n",
       "      <td>0.000000</td>\n",
       "      <td>...</td>\n",
       "      <td>0.124031</td>\n",
       "      <td>0.000000</td>\n",
       "      <td>0.003968</td>\n",
       "      <td>0.015873</td>\n",
       "      <td>0.000000</td>\n",
       "      <td>0.011834</td>\n",
       "      <td>0.014563</td>\n",
       "      <td>0.015873</td>\n",
       "      <td>0.000000</td>\n",
       "      <td>1.000000</td>\n",
       "    </tr>\n",
       "    <tr>\n",
       "      <th>75%</th>\n",
       "      <td>5.370523e+07</td>\n",
       "      <td>2.000000</td>\n",
       "      <td>1.000000</td>\n",
       "      <td>0.008621</td>\n",
       "      <td>0.000000</td>\n",
       "      <td>0.000000</td>\n",
       "      <td>0.000000</td>\n",
       "      <td>0.000000</td>\n",
       "      <td>0.000000</td>\n",
       "      <td>0.000000</td>\n",
       "      <td>...</td>\n",
       "      <td>0.364486</td>\n",
       "      <td>0.000000</td>\n",
       "      <td>0.060000</td>\n",
       "      <td>0.059016</td>\n",
       "      <td>0.000000</td>\n",
       "      <td>0.117188</td>\n",
       "      <td>0.118644</td>\n",
       "      <td>0.122396</td>\n",
       "      <td>178.666667</td>\n",
       "      <td>2.000000</td>\n",
       "    </tr>\n",
       "    <tr>\n",
       "      <th>max</th>\n",
       "      <td>7.904203e+07</td>\n",
       "      <td>3.000000</td>\n",
       "      <td>2.000000</td>\n",
       "      <td>895.304000</td>\n",
       "      <td>4.000000</td>\n",
       "      <td>4.000000</td>\n",
       "      <td>624.000000</td>\n",
       "      <td>2.333333</td>\n",
       "      <td>3.000000</td>\n",
       "      <td>27.333333</td>\n",
       "      <td>...</td>\n",
       "      <td>75.662281</td>\n",
       "      <td>8.196850</td>\n",
       "      <td>17.201754</td>\n",
       "      <td>18.756140</td>\n",
       "      <td>19.612903</td>\n",
       "      <td>27.905983</td>\n",
       "      <td>45.083333</td>\n",
       "      <td>55.153846</td>\n",
       "      <td>39304.000000</td>\n",
       "      <td>4.000000</td>\n",
       "    </tr>\n",
       "  </tbody>\n",
       "</table>\n",
       "<p>8 rows × 26 columns</p>\n",
       "</div>"
      ],
      "text/plain": [
       "             userId           tier         gender  following_rate  \\\n",
       "count  4.888770e+05  488877.000000  488877.000000   488877.000000   \n",
       "mean   4.236096e+07       1.975382       1.213037        0.082233   \n",
       "std    1.821664e+07       0.430707       0.409454        2.467781   \n",
       "min    2.700000e+01       1.000000       1.000000        0.000000   \n",
       "25%    3.537599e+07       2.000000       1.000000        0.000000   \n",
       "50%    4.336270e+07       2.000000       1.000000        0.000000   \n",
       "75%    5.370523e+07       2.000000       1.000000        0.008621   \n",
       "max    7.904203e+07       3.000000       2.000000      895.304000   \n",
       "\n",
       "       followers_avg_age  following_avg_age  max_repetitive_punc  \\\n",
       "count      488877.000000      488877.000000        488877.000000   \n",
       "mean            0.347520           0.403049             0.739748   \n",
       "std             0.816334           0.925291             3.075954   \n",
       "min             0.000000           0.000000             0.000000   \n",
       "25%             0.000000           0.000000             0.000000   \n",
       "50%             0.000000           0.000000             0.000000   \n",
       "75%             0.000000           0.000000             0.000000   \n",
       "max             4.000000           4.000000           624.000000   \n",
       "\n",
       "       num_of_hashtags_per_action  emoji_count_per_action  \\\n",
       "count               488877.000000           488877.000000   \n",
       "mean                     0.000277                0.000981   \n",
       "std                      0.012221                0.020381   \n",
       "min                      0.000000                0.000000   \n",
       "25%                      0.000000                0.000000   \n",
       "50%                      0.000000                0.000000   \n",
       "75%                      0.000000                0.000000   \n",
       "max                      2.333333                3.000000   \n",
       "\n",
       "       punctuations_per_action  ...  content_views  num_of_comments  \\\n",
       "count            488877.000000  ...  488877.000000    488877.000000   \n",
       "mean                  0.012805  ...       0.391013         0.002009   \n",
       "std                   0.159553  ...       0.905303         0.030561   \n",
       "min                   0.000000  ...       0.000887         0.000000   \n",
       "25%                   0.000000  ...       0.040650         0.000000   \n",
       "50%                   0.000000  ...       0.124031         0.000000   \n",
       "75%                   0.000000  ...       0.364486         0.000000   \n",
       "max                  27.333333  ...      75.662281         8.196850   \n",
       "\n",
       "       weekends_trails_watched_per_day  weekdays_trails_watched_per_day  \\\n",
       "count                    488877.000000                    488877.000000   \n",
       "mean                          0.074353                         0.066927   \n",
       "std                           0.211094                         0.174791   \n",
       "min                           0.000000                         0.000000   \n",
       "25%                           0.000000                         0.002265   \n",
       "50%                           0.003968                         0.015873   \n",
       "75%                           0.060000                         0.059016   \n",
       "max                          17.201754                        18.756140   \n",
       "\n",
       "       slot1_trails_watched_per_day  slot2_trails_watched_per_day  \\\n",
       "count                 488877.000000                 488877.000000   \n",
       "mean                       0.032855                      0.141705   \n",
       "std                        0.193962                      0.402612   \n",
       "min                        0.000000                      0.000000   \n",
       "25%                        0.000000                      0.000000   \n",
       "50%                        0.000000                      0.011834   \n",
       "75%                        0.000000                      0.117188   \n",
       "max                       19.612903                     27.905983   \n",
       "\n",
       "       slot3_trails_watched_per_day  slot4_trails_watched_per_day  \\\n",
       "count                 488877.000000                 488877.000000   \n",
       "mean                       0.150401                      0.158382   \n",
       "std                        0.451999                      0.502065   \n",
       "min                        0.000000                      0.000000   \n",
       "25%                        0.000000                      0.000000   \n",
       "50%                        0.014563                      0.015873   \n",
       "75%                        0.118644                      0.122396   \n",
       "max                       45.083333                     55.153846   \n",
       "\n",
       "               avgt2      age_group  \n",
       "count  488877.000000  488877.000000  \n",
       "mean      164.765782       1.741643  \n",
       "std       981.988886       1.088559  \n",
       "min         0.000000       1.000000  \n",
       "25%         0.000000       1.000000  \n",
       "50%         0.000000       1.000000  \n",
       "75%       178.666667       2.000000  \n",
       "max     39304.000000       4.000000  \n",
       "\n",
       "[8 rows x 26 columns]"
      ]
     },
     "execution_count": 9,
     "metadata": {},
     "output_type": "execute_result"
    }
   ],
   "source": [
    "df.describe(include = 'all')"
   ]
  },
  {
   "cell_type": "code",
   "execution_count": 10,
   "id": "94849e07",
   "metadata": {
    "execution": {
     "iopub.execute_input": "2022-05-08T11:38:38.017917Z",
     "iopub.status.busy": "2022-05-08T11:38:38.017627Z",
     "iopub.status.idle": "2022-05-08T11:38:40.404656Z",
     "shell.execute_reply": "2022-05-08T11:38:40.403890Z"
    },
    "papermill": {
     "duration": 2.48575,
     "end_time": "2022-05-08T11:38:40.407408",
     "exception": false,
     "start_time": "2022-05-08T11:38:37.921658",
     "status": "completed"
    },
    "tags": []
   },
   "outputs": [
    {
     "data": {
      "text/html": [
       "<div>\n",
       "<style scoped>\n",
       "    .dataframe tbody tr th:only-of-type {\n",
       "        vertical-align: middle;\n",
       "    }\n",
       "\n",
       "    .dataframe tbody tr th {\n",
       "        vertical-align: top;\n",
       "    }\n",
       "\n",
       "    .dataframe thead th {\n",
       "        text-align: right;\n",
       "    }\n",
       "</style>\n",
       "<table border=\"1\" class=\"dataframe\">\n",
       "  <thead>\n",
       "    <tr style=\"text-align: right;\">\n",
       "      <th></th>\n",
       "      <th>feature</th>\n",
       "      <th>correlation</th>\n",
       "      <th>correlation_p_value</th>\n",
       "    </tr>\n",
       "  </thead>\n",
       "  <tbody>\n",
       "    <tr>\n",
       "      <th>0</th>\n",
       "      <td>userId</td>\n",
       "      <td>-0.201443</td>\n",
       "      <td>0.000000e+00</td>\n",
       "    </tr>\n",
       "    <tr>\n",
       "      <th>1</th>\n",
       "      <td>tier</td>\n",
       "      <td>-0.078105</td>\n",
       "      <td>0.000000e+00</td>\n",
       "    </tr>\n",
       "    <tr>\n",
       "      <th>2</th>\n",
       "      <td>gender</td>\n",
       "      <td>-0.043622</td>\n",
       "      <td>1.655575e-204</td>\n",
       "    </tr>\n",
       "    <tr>\n",
       "      <th>7</th>\n",
       "      <td>num_of_hashtags_per_action</td>\n",
       "      <td>0.026919</td>\n",
       "      <td>4.714582e-79</td>\n",
       "    </tr>\n",
       "    <tr>\n",
       "      <th>8</th>\n",
       "      <td>emoji_count_per_action</td>\n",
       "      <td>0.047038</td>\n",
       "      <td>1.738757e-237</td>\n",
       "    </tr>\n",
       "    <tr>\n",
       "      <th>11</th>\n",
       "      <td>avgCompletion</td>\n",
       "      <td>0.072369</td>\n",
       "      <td>0.000000e+00</td>\n",
       "    </tr>\n",
       "    <tr>\n",
       "      <th>13</th>\n",
       "      <td>avgDuration</td>\n",
       "      <td>0.137311</td>\n",
       "      <td>0.000000e+00</td>\n",
       "    </tr>\n",
       "    <tr>\n",
       "      <th>9</th>\n",
       "      <td>punctuations_per_action</td>\n",
       "      <td>0.157710</td>\n",
       "      <td>0.000000e+00</td>\n",
       "    </tr>\n",
       "    <tr>\n",
       "      <th>21</th>\n",
       "      <td>slot2_trails_watched_per_day</td>\n",
       "      <td>0.186993</td>\n",
       "      <td>0.000000e+00</td>\n",
       "    </tr>\n",
       "    <tr>\n",
       "      <th>20</th>\n",
       "      <td>slot1_trails_watched_per_day</td>\n",
       "      <td>0.190945</td>\n",
       "      <td>0.000000e+00</td>\n",
       "    </tr>\n",
       "    <tr>\n",
       "      <th>16</th>\n",
       "      <td>content_views</td>\n",
       "      <td>0.193622</td>\n",
       "      <td>0.000000e+00</td>\n",
       "    </tr>\n",
       "    <tr>\n",
       "      <th>19</th>\n",
       "      <td>weekdays_trails_watched_per_day</td>\n",
       "      <td>0.200419</td>\n",
       "      <td>0.000000e+00</td>\n",
       "    </tr>\n",
       "    <tr>\n",
       "      <th>18</th>\n",
       "      <td>weekends_trails_watched_per_day</td>\n",
       "      <td>0.218685</td>\n",
       "      <td>0.000000e+00</td>\n",
       "    </tr>\n",
       "    <tr>\n",
       "      <th>22</th>\n",
       "      <td>slot3_trails_watched_per_day</td>\n",
       "      <td>0.220792</td>\n",
       "      <td>0.000000e+00</td>\n",
       "    </tr>\n",
       "    <tr>\n",
       "      <th>23</th>\n",
       "      <td>slot4_trails_watched_per_day</td>\n",
       "      <td>0.236960</td>\n",
       "      <td>0.000000e+00</td>\n",
       "    </tr>\n",
       "    <tr>\n",
       "      <th>17</th>\n",
       "      <td>num_of_comments</td>\n",
       "      <td>0.239479</td>\n",
       "      <td>0.000000e+00</td>\n",
       "    </tr>\n",
       "    <tr>\n",
       "      <th>14</th>\n",
       "      <td>avgComments</td>\n",
       "      <td>0.239650</td>\n",
       "      <td>0.000000e+00</td>\n",
       "    </tr>\n",
       "    <tr>\n",
       "      <th>12</th>\n",
       "      <td>avgTimeSpent</td>\n",
       "      <td>0.240900</td>\n",
       "      <td>0.000000e+00</td>\n",
       "    </tr>\n",
       "    <tr>\n",
       "      <th>6</th>\n",
       "      <td>max_repetitive_punc</td>\n",
       "      <td>0.288956</td>\n",
       "      <td>0.000000e+00</td>\n",
       "    </tr>\n",
       "    <tr>\n",
       "      <th>5</th>\n",
       "      <td>following_avg_age</td>\n",
       "      <td>0.302208</td>\n",
       "      <td>0.000000e+00</td>\n",
       "    </tr>\n",
       "    <tr>\n",
       "      <th>4</th>\n",
       "      <td>followers_avg_age</td>\n",
       "      <td>0.303026</td>\n",
       "      <td>0.000000e+00</td>\n",
       "    </tr>\n",
       "    <tr>\n",
       "      <th>3</th>\n",
       "      <td>following_rate</td>\n",
       "      <td>0.458948</td>\n",
       "      <td>0.000000e+00</td>\n",
       "    </tr>\n",
       "    <tr>\n",
       "      <th>10</th>\n",
       "      <td>number_of_words_per_action</td>\n",
       "      <td>0.636574</td>\n",
       "      <td>0.000000e+00</td>\n",
       "    </tr>\n",
       "    <tr>\n",
       "      <th>24</th>\n",
       "      <td>avgt2</td>\n",
       "      <td>0.665365</td>\n",
       "      <td>0.000000e+00</td>\n",
       "    </tr>\n",
       "    <tr>\n",
       "      <th>15</th>\n",
       "      <td>creations</td>\n",
       "      <td>0.729488</td>\n",
       "      <td>0.000000e+00</td>\n",
       "    </tr>\n",
       "    <tr>\n",
       "      <th>25</th>\n",
       "      <td>age_group</td>\n",
       "      <td>1.000000</td>\n",
       "      <td>0.000000e+00</td>\n",
       "    </tr>\n",
       "  </tbody>\n",
       "</table>\n",
       "</div>"
      ],
      "text/plain": [
       "                            feature  correlation  correlation_p_value\n",
       "0                            userId    -0.201443         0.000000e+00\n",
       "1                              tier    -0.078105         0.000000e+00\n",
       "2                            gender    -0.043622        1.655575e-204\n",
       "7        num_of_hashtags_per_action     0.026919         4.714582e-79\n",
       "8            emoji_count_per_action     0.047038        1.738757e-237\n",
       "11                    avgCompletion     0.072369         0.000000e+00\n",
       "13                      avgDuration     0.137311         0.000000e+00\n",
       "9           punctuations_per_action     0.157710         0.000000e+00\n",
       "21     slot2_trails_watched_per_day     0.186993         0.000000e+00\n",
       "20     slot1_trails_watched_per_day     0.190945         0.000000e+00\n",
       "16                    content_views     0.193622         0.000000e+00\n",
       "19  weekdays_trails_watched_per_day     0.200419         0.000000e+00\n",
       "18  weekends_trails_watched_per_day     0.218685         0.000000e+00\n",
       "22     slot3_trails_watched_per_day     0.220792         0.000000e+00\n",
       "23     slot4_trails_watched_per_day     0.236960         0.000000e+00\n",
       "17                  num_of_comments     0.239479         0.000000e+00\n",
       "14                      avgComments     0.239650         0.000000e+00\n",
       "12                     avgTimeSpent     0.240900         0.000000e+00\n",
       "6               max_repetitive_punc     0.288956         0.000000e+00\n",
       "5                 following_avg_age     0.302208         0.000000e+00\n",
       "4                 followers_avg_age     0.303026         0.000000e+00\n",
       "3                    following_rate     0.458948         0.000000e+00\n",
       "10       number_of_words_per_action     0.636574         0.000000e+00\n",
       "24                            avgt2     0.665365         0.000000e+00\n",
       "15                        creations     0.729488         0.000000e+00\n",
       "25                        age_group     1.000000         0.000000e+00"
      ]
     },
     "execution_count": 10,
     "metadata": {},
     "output_type": "execute_result"
    }
   ],
   "source": [
    "import scipy.stats \n",
    "\n",
    "corrs = []\n",
    "for col in df:\n",
    "    corr = scipy.stats.spearmanr(df['age_group'], df[col])\n",
    "    corrs.append({\n",
    "        'feature': col,\n",
    "        'correlation': corr[0],\n",
    "        'correlation_p_value': corr[1]\n",
    "    })\n",
    "    \n",
    "pd.DataFrame(corrs).sort_values('correlation')"
   ]
  },
  {
   "cell_type": "markdown",
   "id": "8d96ba66",
   "metadata": {
    "papermill": {
     "duration": 0.099907,
     "end_time": "2022-05-08T11:38:40.606769",
     "exception": false,
     "start_time": "2022-05-08T11:38:40.506862",
     "status": "completed"
    },
    "tags": []
   },
   "source": [
    "## This is a categorical feature denoting the age of the user. Age of users is divided into 4 groups, \n",
    "### 1: <18y\n",
    "### 2: 18-24y\n",
    "### 3: 24-30y\n",
    "### 4: >30y"
   ]
  },
  {
   "cell_type": "code",
   "execution_count": 11,
   "id": "b1c3107a",
   "metadata": {
    "execution": {
     "iopub.execute_input": "2022-05-08T11:38:40.798038Z",
     "iopub.status.busy": "2022-05-08T11:38:40.797546Z",
     "iopub.status.idle": "2022-05-08T11:38:40.806787Z",
     "shell.execute_reply": "2022-05-08T11:38:40.806140Z"
    },
    "papermill": {
     "duration": 0.107844,
     "end_time": "2022-05-08T11:38:40.809344",
     "exception": false,
     "start_time": "2022-05-08T11:38:40.701500",
     "status": "completed"
    },
    "tags": []
   },
   "outputs": [
    {
     "data": {
      "text/plain": [
       "1    308315\n",
       "4     60803\n",
       "3     60404\n",
       "2     59355\n",
       "Name: age_group, dtype: int64"
      ]
     },
     "execution_count": 11,
     "metadata": {},
     "output_type": "execute_result"
    }
   ],
   "source": [
    "df['age_group'].value_counts()"
   ]
  },
  {
   "cell_type": "markdown",
   "id": "64f3a3b2",
   "metadata": {
    "papermill": {
     "duration": 0.097101,
     "end_time": "2022-05-08T11:38:41.003891",
     "exception": false,
     "start_time": "2022-05-08T11:38:40.906790",
     "status": "completed"
    },
    "tags": []
   },
   "source": [
    "#### To check if there is any input problems since this is the most important feature for us"
   ]
  },
  {
   "cell_type": "code",
   "execution_count": 12,
   "id": "101a463b",
   "metadata": {
    "execution": {
     "iopub.execute_input": "2022-05-08T11:38:41.194480Z",
     "iopub.status.busy": "2022-05-08T11:38:41.194194Z",
     "iopub.status.idle": "2022-05-08T11:38:41.202672Z",
     "shell.execute_reply": "2022-05-08T11:38:41.201864Z"
    },
    "papermill": {
     "duration": 0.10646,
     "end_time": "2022-05-08T11:38:41.204693",
     "exception": false,
     "start_time": "2022-05-08T11:38:41.098233",
     "status": "completed"
    },
    "tags": []
   },
   "outputs": [
    {
     "data": {
      "text/plain": [
       "array([1, 2, 3, 4])"
      ]
     },
     "execution_count": 12,
     "metadata": {},
     "output_type": "execute_result"
    }
   ],
   "source": [
    "df['age_group'].unique()"
   ]
  },
  {
   "cell_type": "code",
   "execution_count": 13,
   "id": "821984db",
   "metadata": {
    "execution": {
     "iopub.execute_input": "2022-05-08T11:38:41.405103Z",
     "iopub.status.busy": "2022-05-08T11:38:41.404504Z",
     "iopub.status.idle": "2022-05-08T11:38:41.415010Z",
     "shell.execute_reply": "2022-05-08T11:38:41.414127Z"
    },
    "papermill": {
     "duration": 0.116497,
     "end_time": "2022-05-08T11:38:41.417101",
     "exception": false,
     "start_time": "2022-05-08T11:38:41.300604",
     "status": "completed"
    },
    "tags": []
   },
   "outputs": [
    {
     "data": {
      "text/plain": [
       "2    397890\n",
       "1     51511\n",
       "3     39476\n",
       "Name: tier, dtype: int64"
      ]
     },
     "execution_count": 13,
     "metadata": {},
     "output_type": "execute_result"
    }
   ],
   "source": [
    "df['tier'].value_counts()"
   ]
  },
  {
   "cell_type": "code",
   "execution_count": 14,
   "id": "7612a2b7",
   "metadata": {
    "execution": {
     "iopub.execute_input": "2022-05-08T11:38:41.617212Z",
     "iopub.status.busy": "2022-05-08T11:38:41.616912Z",
     "iopub.status.idle": "2022-05-08T11:38:41.866248Z",
     "shell.execute_reply": "2022-05-08T11:38:41.865025Z"
    },
    "papermill": {
     "duration": 0.350098,
     "end_time": "2022-05-08T11:38:41.868748",
     "exception": false,
     "start_time": "2022-05-08T11:38:41.518650",
     "status": "completed"
    },
    "tags": []
   },
   "outputs": [
    {
     "name": "stdout",
     "output_type": "stream",
     "text": [
      "Name of the column: userId\n",
      "488877\n",
      "Name of the column: tier\n",
      "3\n",
      "Name of the column: gender\n",
      "2\n",
      "Name of the column: following_rate\n",
      "15453\n",
      "Name of the column: followers_avg_age\n",
      "3495\n",
      "Name of the column: following_avg_age\n",
      "3949\n",
      "Name of the column: max_repetitive_punc\n",
      "95\n",
      "Name of the column: num_of_hashtags_per_action\n",
      "420\n",
      "Name of the column: emoji_count_per_action\n",
      "742\n",
      "Name of the column: punctuations_per_action\n",
      "3129\n",
      "Name of the column: number_of_words_per_action\n",
      "16664\n",
      "Name of the column: avgCompletion\n",
      "458839\n",
      "Name of the column: avgTimeSpent\n",
      "98838\n",
      "Name of the column: avgDuration\n",
      "415696\n",
      "Name of the column: avgComments\n",
      "186\n",
      "Name of the column: creations\n",
      "9972\n",
      "Name of the column: content_views\n",
      "32292\n",
      "Name of the column: num_of_comments\n",
      "3881\n",
      "Name of the column: weekends_trails_watched_per_day\n",
      "20340\n",
      "Name of the column: weekdays_trails_watched_per_day\n",
      "31432\n",
      "Name of the column: slot1_trails_watched_per_day\n",
      "11765\n",
      "Name of the column: slot2_trails_watched_per_day\n",
      "20220\n",
      "Name of the column: slot3_trails_watched_per_day\n",
      "21783\n",
      "Name of the column: slot4_trails_watched_per_day\n",
      "22160\n",
      "Name of the column: avgt2\n",
      "61490\n",
      "Name of the column: age_group\n",
      "4\n"
     ]
    }
   ],
   "source": [
    "for x in df.columns:\n",
    "    print(\"Name of the column:\", x)\n",
    "    print(df[x].nunique())"
   ]
  },
  {
   "cell_type": "markdown",
   "id": "20810cb1",
   "metadata": {
    "papermill": {
     "duration": 0.107321,
     "end_time": "2022-05-08T11:38:42.093471",
     "exception": false,
     "start_time": "2022-05-08T11:38:41.986150",
     "status": "completed"
    },
    "tags": []
   },
   "source": [
    "# Detect outliers"
   ]
  },
  {
   "cell_type": "code",
   "execution_count": 15,
   "id": "6a2452e5",
   "metadata": {
    "execution": {
     "iopub.execute_input": "2022-05-08T11:38:42.289948Z",
     "iopub.status.busy": "2022-05-08T11:38:42.289406Z",
     "iopub.status.idle": "2022-05-08T11:38:42.307868Z",
     "shell.execute_reply": "2022-05-08T11:38:42.307220Z"
    },
    "papermill": {
     "duration": 0.118584,
     "end_time": "2022-05-08T11:38:42.309764",
     "exception": false,
     "start_time": "2022-05-08T11:38:42.191180",
     "status": "completed"
    },
    "tags": []
   },
   "outputs": [
    {
     "data": {
      "text/plain": [
       "count    488877.000000\n",
       "mean          1.975382\n",
       "std           0.430707\n",
       "min           1.000000\n",
       "25%           2.000000\n",
       "50%           2.000000\n",
       "75%           2.000000\n",
       "max           3.000000\n",
       "Name: tier, dtype: float64"
      ]
     },
     "execution_count": 15,
     "metadata": {},
     "output_type": "execute_result"
    }
   ],
   "source": [
    "df['tier'].describe()"
   ]
  },
  {
   "cell_type": "code",
   "execution_count": 16,
   "id": "26be745a",
   "metadata": {
    "execution": {
     "iopub.execute_input": "2022-05-08T11:38:42.515281Z",
     "iopub.status.busy": "2022-05-08T11:38:42.514777Z",
     "iopub.status.idle": "2022-05-08T11:38:42.534944Z",
     "shell.execute_reply": "2022-05-08T11:38:42.534277Z"
    },
    "papermill": {
     "duration": 0.124731,
     "end_time": "2022-05-08T11:38:42.536800",
     "exception": false,
     "start_time": "2022-05-08T11:38:42.412069",
     "status": "completed"
    },
    "tags": []
   },
   "outputs": [
    {
     "data": {
      "text/plain": [
       "count    488877.000000\n",
       "mean          1.741643\n",
       "std           1.088559\n",
       "min           1.000000\n",
       "25%           1.000000\n",
       "50%           1.000000\n",
       "75%           2.000000\n",
       "max           4.000000\n",
       "Name: age_group, dtype: float64"
      ]
     },
     "execution_count": 16,
     "metadata": {},
     "output_type": "execute_result"
    }
   ],
   "source": [
    "df['age_group'].describe()"
   ]
  },
  {
   "cell_type": "code",
   "execution_count": 17,
   "id": "f766dbc4",
   "metadata": {
    "execution": {
     "iopub.execute_input": "2022-05-08T11:38:42.738458Z",
     "iopub.status.busy": "2022-05-08T11:38:42.737951Z",
     "iopub.status.idle": "2022-05-08T11:38:50.114845Z",
     "shell.execute_reply": "2022-05-08T11:38:50.114042Z"
    },
    "papermill": {
     "duration": 7.479738,
     "end_time": "2022-05-08T11:38:50.116898",
     "exception": false,
     "start_time": "2022-05-08T11:38:42.637160",
     "status": "completed"
    },
    "tags": []
   },
   "outputs": [
    {
     "name": "stdout",
     "output_type": "stream",
     "text": [
      "Column name: userId\n"
     ]
    },
    {
     "data": {
      "image/png": "[encoded data removed]",
      "text/plain": [
       "<Figure size 432x288 with 1 Axes>"
      ]
     },
     "metadata": {
      "needs_background": "light"
     },
     "output_type": "display_data"
    },
    {
     "name": "stdout",
     "output_type": "stream",
     "text": [
      "Column name: tier\n"
     ]
    },
    {
     "data": {
      "image/png": "[encoded data removed]",
      "text/plain": [
       "<Figure size 432x288 with 1 Axes>"
      ]
     },
     "metadata": {
      "needs_background": "light"
     },
     "output_type": "display_data"
    },
    {
     "name": "stdout",
     "output_type": "stream",
     "text": [
      "Column name: gender\n"
     ]
    },
    {
     "data": {
      "image/png": "[encoded data removed]",
      "text/plain": [
       "<Figure size 432x288 with 1 Axes>"
      ]
     },
     "metadata": {
      "needs_background": "light"
     },
     "output_type": "display_data"
    },
    {
     "name": "stdout",
     "output_type": "stream",
     "text": [
      "Column name: following_rate\n"
     ]
    },
    {
     "data": {
      "image/png": "[encoded data removed]",
      "text/plain": [
       "<Figure size 432x288 with 1 Axes>"
      ]
     },
     "metadata": {
      "needs_background": "light"
     },
     "output_type": "display_data"
    },
    {
     "name": "stdout",
     "output_type": "stream",
     "text": [
      "Column name: followers_avg_age\n"
     ]
    },
    {
     "data": {
      "image/png": "[encoded data removed]",
      "text/plain": [
       "<Figure size 432x288 with 1 Axes>"
      ]
     },
     "metadata": {
      "needs_background": "light"
     },
     "output_type": "display_data"
    },
    {
     "name": "stdout",
     "output_type": "stream",
     "text": [
      "Column name: following_avg_age\n"
     ]
    },
    {
     "data": {
      "image/png": "[encoded data removed]",
      "text/plain": [
       "<Figure size 432x288 with 1 Axes>"
      ]
     },
     "metadata": {
      "needs_background": "light"
     },
     "output_type": "display_data"
    },
    {
     "name": "stdout",
     "output_type": "stream",
     "text": [
      "Column name: max_repetitive_punc\n"
     ]
    },
    {
     "data": {
      "image/png": "[encoded data removed]",
      "text/plain": [
       "<Figure size 432x288 with 1 Axes>"
      ]
     },
     "metadata": {
      "needs_background": "light"
     },
     "output_type": "display_data"
    },
    {
     "name": "stdout",
     "output_type": "stream",
     "text": [
      "Column name: num_of_hashtags_per_action\n"
     ]
    },
    {
     "data": {
      "image/png": "[encoded data removed]",
      "text/plain": [
       "<Figure size 432x288 with 1 Axes>"
      ]
     },
     "metadata": {
      "needs_background": "light"
     },
     "output_type": "display_data"
    },
    {
     "name": "stdout",
     "output_type": "stream",
     "text": [
      "Column name: emoji_count_per_action\n"
     ]
    },
    {
     "data": {
      "image/png": "[encoded data removed]",
      "text/plain": [
       "<Figure size 432x288 with 1 Axes>"
      ]
     },
     "metadata": {
      "needs_background": "light"
     },
     "output_type": "display_data"
    },
    {
     "name": "stdout",
     "output_type": "stream",
     "text": [
      "Column name: punctuations_per_action\n"
     ]
    },
    {
     "data": {
      "image/png": "[encoded data removed]",
      "text/plain": [
       "<Figure size 432x288 with 1 Axes>"
      ]
     },
     "metadata": {
      "needs_background": "light"
     },
     "output_type": "display_data"
    },
    {
     "name": "stdout",
     "output_type": "stream",
     "text": [
      "Column name: number_of_words_per_action\n"
     ]
    },
    {
     "data": {
      "image/png": "[encoded data removed]",
      "text/plain": [
       "<Figure size 432x288 with 1 Axes>"
      ]
     },
     "metadata": {
      "needs_background": "light"
     },
     "output_type": "display_data"
    },
    {
     "name": "stdout",
     "output_type": "stream",
     "text": [
      "Column name: avgCompletion\n"
     ]
    },
    {
     "data": {
      "image/png": "[encoded data removed]",
      "text/plain": [
       "<Figure size 432x288 with 1 Axes>"
      ]
     },
     "metadata": {
      "needs_background": "light"
     },
     "output_type": "display_data"
    },
    {
     "name": "stdout",
     "output_type": "stream",
     "text": [
      "Column name: avgTimeSpent\n"
     ]
    },
    {
     "data": {
      "image/png": "[encoded data removed]",
      "text/plain": [
       "<Figure size 432x288 with 1 Axes>"
      ]
     },
     "metadata": {
      "needs_background": "light"
     },
     "output_type": "display_data"
    },
    {
     "name": "stdout",
     "output_type": "stream",
     "text": [
      "Column name: avgDuration\n"
     ]
    },
    {
     "data": {
      "image/png": "[encoded data removed]",
      "text/plain": [
       "<Figure size 432x288 with 1 Axes>"
      ]
     },
     "metadata": {
      "needs_background": "light"
     },
     "output_type": "display_data"
    },
    {
     "name": "stdout",
     "output_type": "stream",
     "text": [
      "Column name: avgComments\n"
     ]
    },
    {
     "data": {
      "image/png": "[encoded data removed]",
      "text/plain": [
       "<Figure size 432x288 with 1 Axes>"
      ]
     },
     "metadata": {
      "needs_background": "light"
     },
     "output_type": "display_data"
    },
    {
     "name": "stdout",
     "output_type": "stream",
     "text": [
      "Column name: creations\n"
     ]
    },
    {
     "data": {
      "image/png": "[encoded data removed]",
      "text/plain": [
       "<Figure size 432x288 with 1 Axes>"
      ]
     },
     "metadata": {
      "needs_background": "light"
     },
     "output_type": "display_data"
    },
    {
     "name": "stdout",
     "output_type": "stream",
     "text": [
      "Column name: content_views\n"
     ]
    },
    {
     "data": {
      "image/png": "[encoded data removed]",
      "text/plain": [
       "<Figure size 432x288 with 1 Axes>"
      ]
     },
     "metadata": {
      "needs_background": "light"
     },
     "output_type": "display_data"
    },
    {
     "name": "stdout",
     "output_type": "stream",
     "text": [
      "Column name: num_of_comments\n"
     ]
    },
    {
     "data": {
      "image/png": "[encoded data removed]",
      "text/plain": [
       "<Figure size 432x288 with 1 Axes>"
      ]
     },
     "metadata": {
      "needs_background": "light"
     },
     "output_type": "display_data"
    },
    {
     "name": "stdout",
     "output_type": "stream",
     "text": [
      "Column name: weekends_trails_watched_per_day\n"
     ]
    },
    {
     "data": {
      "image/png": "[encoded data removed]",
      "text/plain": [
       "<Figure size 432x288 with 1 Axes>"
      ]
     },
     "metadata": {
      "needs_background": "light"
     },
     "output_type": "display_data"
    },
    {
     "name": "stdout",
     "output_type": "stream",
     "text": [
      "Column name: weekdays_trails_watched_per_day\n"
     ]
    },
    {
     "data": {
      "image/png": "[encoded data removed]",
      "text/plain": [
       "<Figure size 432x288 with 1 Axes>"
      ]
     },
     "metadata": {
      "needs_background": "light"
     },
     "output_type": "display_data"
    },
    {
     "name": "stdout",
     "output_type": "stream",
     "text": [
      "Column name: slot1_trails_watched_per_day\n"
     ]
    },
    {
     "data": {
      "image/png": "[encoded data removed]",
      "text/plain": [
       "<Figure size 432x288 with 1 Axes>"
      ]
     },
     "metadata": {
      "needs_background": "light"
     },
     "output_type": "display_data"
    },
    {
     "name": "stdout",
     "output_type": "stream",
     "text": [
      "Column name: slot2_trails_watched_per_day\n"
     ]
    },
    {
     "data": {
      "image/png": "[encoded data removed]",
      "text/plain": [
       "<Figure size 432x288 with 1 Axes>"
      ]
     },
     "metadata": {
      "needs_background": "light"
     },
     "output_type": "display_data"
    },
    {
     "name": "stdout",
     "output_type": "stream",
     "text": [
      "Column name: slot3_trails_watched_per_day\n"
     ]
    },
    {
     "data": {
      "image/png": "[encoded data removed]",
      "text/plain": [
       "<Figure size 432x288 with 1 Axes>"
      ]
     },
     "metadata": {
      "needs_background": "light"
     },
     "output_type": "display_data"
    },
    {
     "name": "stdout",
     "output_type": "stream",
     "text": [
      "Column name: slot4_trails_watched_per_day\n"
     ]
    },
    {
     "data": {
      "image/png": "[encoded data removed]",
      "text/plain": [
       "<Figure size 432x288 with 1 Axes>"
      ]
     },
     "metadata": {
      "needs_background": "light"
     },
     "output_type": "display_data"
    },
    {
     "name": "stdout",
     "output_type": "stream",
     "text": [
      "Column name: avgt2\n"
     ]
    },
    {
     "data": {
      "image/png": "[encoded data removed]",
      "text/plain": [
       "<Figure size 432x288 with 1 Axes>"
      ]
     },
     "metadata": {
      "needs_background": "light"
     },
     "output_type": "display_data"
    },
    {
     "name": "stdout",
     "output_type": "stream",
     "text": [
      "Column name: age_group\n"
     ]
    },
    {
     "data": {
      "image/png": "[encoded data removed]",
      "text/plain": [
       "<Figure size 432x288 with 1 Axes>"
      ]
     },
     "metadata": {
      "needs_background": "light"
     },
     "output_type": "display_data"
    }
   ],
   "source": [
    "for x in df.columns:\n",
    "    print('Column name:' , x)\n",
    "    plt.plot(df[x])\n",
    "    plt.show()"
   ]
  },
  {
   "cell_type": "markdown",
   "id": "2950ef60",
   "metadata": {
    "papermill": {
     "duration": 0.129705,
     "end_time": "2022-05-08T11:38:50.376793",
     "exception": false,
     "start_time": "2022-05-08T11:38:50.247088",
     "status": "completed"
    },
    "tags": []
   },
   "source": [
    "# Remove Outliers"
   ]
  },
  {
   "cell_type": "code",
   "execution_count": 18,
   "id": "6b08aad0",
   "metadata": {
    "execution": {
     "iopub.execute_input": "2022-05-08T11:38:50.638276Z",
     "iopub.status.busy": "2022-05-08T11:38:50.637360Z",
     "iopub.status.idle": "2022-05-08T11:38:50.641394Z",
     "shell.execute_reply": "2022-05-08T11:38:50.640639Z"
    },
    "papermill": {
     "duration": 0.137341,
     "end_time": "2022-05-08T11:38:50.643487",
     "exception": false,
     "start_time": "2022-05-08T11:38:50.506146",
     "status": "completed"
    },
    "tags": []
   },
   "outputs": [],
   "source": [
    "import numpy as np\n",
    "from numpy import percentile"
   ]
  },
  {
   "cell_type": "code",
   "execution_count": 19,
   "id": "6ef4465a",
   "metadata": {
    "execution": {
     "iopub.execute_input": "2022-05-08T11:38:50.907555Z",
     "iopub.status.busy": "2022-05-08T11:38:50.907275Z",
     "iopub.status.idle": "2022-05-08T11:38:50.921225Z",
     "shell.execute_reply": "2022-05-08T11:38:50.920352Z"
    },
    "papermill": {
     "duration": 0.150366,
     "end_time": "2022-05-08T11:38:50.924542",
     "exception": false,
     "start_time": "2022-05-08T11:38:50.774176",
     "status": "completed"
    },
    "tags": []
   },
   "outputs": [
    {
     "name": "stdout",
     "output_type": "stream",
     "text": [
      "1.0 0.0\n",
      "-1.0\n"
     ]
    }
   ],
   "source": [
    "q25, q75 = percentile(df.loc[:,'age_group'], 25), percentile(df.loc[:,'num_of_hashtags_per_action'], 75)\n",
    "iqr = q75 - q25\n",
    "print(q25,q75)\n",
    "print(iqr)"
   ]
  },
  {
   "cell_type": "code",
   "execution_count": 20,
   "id": "f50b9249",
   "metadata": {
    "execution": {
     "iopub.execute_input": "2022-05-08T11:38:51.187357Z",
     "iopub.status.busy": "2022-05-08T11:38:51.186585Z",
     "iopub.status.idle": "2022-05-08T11:38:51.211716Z",
     "shell.execute_reply": "2022-05-08T11:38:51.210835Z"
    },
    "papermill": {
     "duration": 0.157414,
     "end_time": "2022-05-08T11:38:51.213765",
     "exception": false,
     "start_time": "2022-05-08T11:38:51.056351",
     "status": "completed"
    },
    "tags": []
   },
   "outputs": [
    {
     "data": {
      "text/plain": [
       "count    488877.000000\n",
       "mean          0.000277\n",
       "std           0.012221\n",
       "min           0.000000\n",
       "25%           0.000000\n",
       "50%           0.000000\n",
       "75%           0.000000\n",
       "max           2.333333\n",
       "Name: num_of_hashtags_per_action, dtype: float64"
      ]
     },
     "execution_count": 20,
     "metadata": {},
     "output_type": "execute_result"
    }
   ],
   "source": [
    "df['num_of_hashtags_per_action'].describe()"
   ]
  },
  {
   "cell_type": "code",
   "execution_count": 21,
   "id": "f60a4221",
   "metadata": {
    "execution": {
     "iopub.execute_input": "2022-05-08T11:38:51.473502Z",
     "iopub.status.busy": "2022-05-08T11:38:51.473102Z",
     "iopub.status.idle": "2022-05-08T11:38:51.556749Z",
     "shell.execute_reply": "2022-05-08T11:38:51.555878Z"
    },
    "papermill": {
     "duration": 0.216597,
     "end_time": "2022-05-08T11:38:51.559205",
     "exception": false,
     "start_time": "2022-05-08T11:38:51.342608",
     "status": "completed"
    },
    "tags": []
   },
   "outputs": [
    {
     "data": {
      "text/plain": [
       "[0.642857143,\n",
       " 0.6,\n",
       " 0.5,\n",
       " 0.5,\n",
       " 0.571428571,\n",
       " 0.428571429,\n",
       " 0.5,\n",
       " 0.666666667,\n",
       " 0.5,\n",
       " 0.5,\n",
       " 2.0,\n",
       " 0.5,\n",
       " 0.846153846,\n",
       " 0.470588235,\n",
       " 0.5,\n",
       " 0.538461538,\n",
       " 0.933333333,\n",
       " 0.5,\n",
       " 1.333333333,\n",
       " 0.5,\n",
       " 0.428571429,\n",
       " 0.454545455,\n",
       " 0.5,\n",
       " 0.666666667,\n",
       " 0.5,\n",
       " 0.444444444,\n",
       " 1.0,\n",
       " 0.5,\n",
       " 0.5,\n",
       " 1.0,\n",
       " 1.285714286,\n",
       " 0.5,\n",
       " 2.333333333,\n",
       " 0.666666667,\n",
       " 0.75,\n",
       " 1.0,\n",
       " 1.5,\n",
       " 0.769230769,\n",
       " 0.555555556,\n",
       " 2.333333333,\n",
       " 0.5,\n",
       " 1.0,\n",
       " 0.6,\n",
       " 1.285714286,\n",
       " 0.714285714,\n",
       " 0.875,\n",
       " 0.75,\n",
       " 0.5,\n",
       " 1.166666667,\n",
       " 0.571428571,\n",
       " 1.0,\n",
       " 1.5,\n",
       " 0.473684211,\n",
       " 1.0,\n",
       " 0.5,\n",
       " 0.538461538,\n",
       " 0.416666667,\n",
       " 2.0,\n",
       " 0.454545455,\n",
       " 0.878787879,\n",
       " 0.5,\n",
       " 1.125,\n",
       " 1.666666667,\n",
       " 0.5,\n",
       " 0.6,\n",
       " 1.8]"
      ]
     },
     "execution_count": 21,
     "metadata": {},
     "output_type": "execute_result"
    }
   ],
   "source": [
    "outliers = [x for x in df.loc[:,'num_of_hashtags_per_action'] if x > 0.4]\n",
    "outliers"
   ]
  },
  {
   "cell_type": "code",
   "execution_count": 22,
   "id": "f66fbaaf",
   "metadata": {
    "execution": {
     "iopub.execute_input": "2022-05-08T11:38:51.821095Z",
     "iopub.status.busy": "2022-05-08T11:38:51.820440Z",
     "iopub.status.idle": "2022-05-08T11:38:51.851280Z",
     "shell.execute_reply": "2022-05-08T11:38:51.850692Z"
    },
    "papermill": {
     "duration": 0.164062,
     "end_time": "2022-05-08T11:38:51.853228",
     "exception": false,
     "start_time": "2022-05-08T11:38:51.689166",
     "status": "completed"
    },
    "tags": []
   },
   "outputs": [
    {
     "data": {
      "text/html": [
       "<div>\n",
       "<style scoped>\n",
       "    .dataframe tbody tr th:only-of-type {\n",
       "        vertical-align: middle;\n",
       "    }\n",
       "\n",
       "    .dataframe tbody tr th {\n",
       "        vertical-align: top;\n",
       "    }\n",
       "\n",
       "    .dataframe thead th {\n",
       "        text-align: right;\n",
       "    }\n",
       "</style>\n",
       "<table border=\"1\" class=\"dataframe\">\n",
       "  <thead>\n",
       "    <tr style=\"text-align: right;\">\n",
       "      <th></th>\n",
       "      <th>userId</th>\n",
       "      <th>tier</th>\n",
       "      <th>gender</th>\n",
       "      <th>following_rate</th>\n",
       "      <th>followers_avg_age</th>\n",
       "      <th>following_avg_age</th>\n",
       "      <th>max_repetitive_punc</th>\n",
       "      <th>num_of_hashtags_per_action</th>\n",
       "      <th>emoji_count_per_action</th>\n",
       "      <th>punctuations_per_action</th>\n",
       "      <th>...</th>\n",
       "      <th>content_views</th>\n",
       "      <th>num_of_comments</th>\n",
       "      <th>weekends_trails_watched_per_day</th>\n",
       "      <th>weekdays_trails_watched_per_day</th>\n",
       "      <th>slot1_trails_watched_per_day</th>\n",
       "      <th>slot2_trails_watched_per_day</th>\n",
       "      <th>slot3_trails_watched_per_day</th>\n",
       "      <th>slot4_trails_watched_per_day</th>\n",
       "      <th>avgt2</th>\n",
       "      <th>age_group</th>\n",
       "    </tr>\n",
       "  </thead>\n",
       "  <tbody>\n",
       "    <tr>\n",
       "      <th>305</th>\n",
       "      <td>32612910</td>\n",
       "      <td>2</td>\n",
       "      <td>2</td>\n",
       "      <td>0.007812</td>\n",
       "      <td>0.000000</td>\n",
       "      <td>0.000000</td>\n",
       "      <td>3</td>\n",
       "      <td>0.066667</td>\n",
       "      <td>0.266667</td>\n",
       "      <td>0.133333</td>\n",
       "      <td>...</td>\n",
       "      <td>0.101562</td>\n",
       "      <td>0.000000</td>\n",
       "      <td>0.089844</td>\n",
       "      <td>0.001563</td>\n",
       "      <td>0.000000</td>\n",
       "      <td>0.000000</td>\n",
       "      <td>0.007812</td>\n",
       "      <td>0.179688</td>\n",
       "      <td>186.500000</td>\n",
       "      <td>1</td>\n",
       "    </tr>\n",
       "    <tr>\n",
       "      <th>669</th>\n",
       "      <td>220196</td>\n",
       "      <td>2</td>\n",
       "      <td>1</td>\n",
       "      <td>0.050367</td>\n",
       "      <td>2.333333</td>\n",
       "      <td>2.500000</td>\n",
       "      <td>3</td>\n",
       "      <td>0.642857</td>\n",
       "      <td>0.000000</td>\n",
       "      <td>0.928571</td>\n",
       "      <td>...</td>\n",
       "      <td>0.007345</td>\n",
       "      <td>0.002099</td>\n",
       "      <td>0.000525</td>\n",
       "      <td>0.003568</td>\n",
       "      <td>0.015740</td>\n",
       "      <td>0.000000</td>\n",
       "      <td>0.001049</td>\n",
       "      <td>0.002099</td>\n",
       "      <td>2768.463415</td>\n",
       "      <td>2</td>\n",
       "    </tr>\n",
       "    <tr>\n",
       "      <th>2857</th>\n",
       "      <td>1956238</td>\n",
       "      <td>1</td>\n",
       "      <td>2</td>\n",
       "      <td>0.018416</td>\n",
       "      <td>2.214286</td>\n",
       "      <td>3.333333</td>\n",
       "      <td>7</td>\n",
       "      <td>0.029412</td>\n",
       "      <td>0.019608</td>\n",
       "      <td>0.186275</td>\n",
       "      <td>...</td>\n",
       "      <td>0.099448</td>\n",
       "      <td>0.000000</td>\n",
       "      <td>0.013812</td>\n",
       "      <td>0.041252</td>\n",
       "      <td>0.034991</td>\n",
       "      <td>0.011050</td>\n",
       "      <td>0.095764</td>\n",
       "      <td>0.092081</td>\n",
       "      <td>191.737533</td>\n",
       "      <td>3</td>\n",
       "    </tr>\n",
       "    <tr>\n",
       "      <th>2911</th>\n",
       "      <td>50415054</td>\n",
       "      <td>2</td>\n",
       "      <td>2</td>\n",
       "      <td>0.000000</td>\n",
       "      <td>0.000000</td>\n",
       "      <td>0.000000</td>\n",
       "      <td>4</td>\n",
       "      <td>0.038462</td>\n",
       "      <td>0.000000</td>\n",
       "      <td>0.173077</td>\n",
       "      <td>...</td>\n",
       "      <td>0.411765</td>\n",
       "      <td>0.000000</td>\n",
       "      <td>0.033613</td>\n",
       "      <td>0.073950</td>\n",
       "      <td>0.067227</td>\n",
       "      <td>0.000000</td>\n",
       "      <td>0.369748</td>\n",
       "      <td>0.000000</td>\n",
       "      <td>157.428571</td>\n",
       "      <td>2</td>\n",
       "    </tr>\n",
       "    <tr>\n",
       "      <th>3153</th>\n",
       "      <td>38896282</td>\n",
       "      <td>2</td>\n",
       "      <td>1</td>\n",
       "      <td>0.000000</td>\n",
       "      <td>0.000000</td>\n",
       "      <td>0.000000</td>\n",
       "      <td>0</td>\n",
       "      <td>0.033333</td>\n",
       "      <td>0.000000</td>\n",
       "      <td>0.066667</td>\n",
       "      <td>...</td>\n",
       "      <td>0.448000</td>\n",
       "      <td>0.000000</td>\n",
       "      <td>0.212000</td>\n",
       "      <td>0.036800</td>\n",
       "      <td>0.040000</td>\n",
       "      <td>0.016000</td>\n",
       "      <td>0.256000</td>\n",
       "      <td>0.296000</td>\n",
       "      <td>174.250000</td>\n",
       "      <td>3</td>\n",
       "    </tr>\n",
       "    <tr>\n",
       "      <th>...</th>\n",
       "      <td>...</td>\n",
       "      <td>...</td>\n",
       "      <td>...</td>\n",
       "      <td>...</td>\n",
       "      <td>...</td>\n",
       "      <td>...</td>\n",
       "      <td>...</td>\n",
       "      <td>...</td>\n",
       "      <td>...</td>\n",
       "      <td>...</td>\n",
       "      <td>...</td>\n",
       "      <td>...</td>\n",
       "      <td>...</td>\n",
       "      <td>...</td>\n",
       "      <td>...</td>\n",
       "      <td>...</td>\n",
       "      <td>...</td>\n",
       "      <td>...</td>\n",
       "      <td>...</td>\n",
       "      <td>...</td>\n",
       "      <td>...</td>\n",
       "    </tr>\n",
       "    <tr>\n",
       "      <th>487082</th>\n",
       "      <td>58583104</td>\n",
       "      <td>2</td>\n",
       "      <td>1</td>\n",
       "      <td>0.198020</td>\n",
       "      <td>2.500000</td>\n",
       "      <td>2.388889</td>\n",
       "      <td>2</td>\n",
       "      <td>1.800000</td>\n",
       "      <td>0.000000</td>\n",
       "      <td>1.800000</td>\n",
       "      <td>...</td>\n",
       "      <td>0.019802</td>\n",
       "      <td>0.000000</td>\n",
       "      <td>0.000000</td>\n",
       "      <td>0.003960</td>\n",
       "      <td>0.000000</td>\n",
       "      <td>0.000000</td>\n",
       "      <td>0.000000</td>\n",
       "      <td>0.019802</td>\n",
       "      <td>183.933333</td>\n",
       "      <td>2</td>\n",
       "    </tr>\n",
       "    <tr>\n",
       "      <th>487292</th>\n",
       "      <td>38586461</td>\n",
       "      <td>1</td>\n",
       "      <td>1</td>\n",
       "      <td>0.000000</td>\n",
       "      <td>0.000000</td>\n",
       "      <td>0.000000</td>\n",
       "      <td>2</td>\n",
       "      <td>0.176471</td>\n",
       "      <td>0.000000</td>\n",
       "      <td>0.529412</td>\n",
       "      <td>...</td>\n",
       "      <td>0.072000</td>\n",
       "      <td>0.000000</td>\n",
       "      <td>0.004000</td>\n",
       "      <td>0.022400</td>\n",
       "      <td>0.008000</td>\n",
       "      <td>0.000000</td>\n",
       "      <td>0.064000</td>\n",
       "      <td>0.048000</td>\n",
       "      <td>182.250000</td>\n",
       "      <td>2</td>\n",
       "    </tr>\n",
       "    <tr>\n",
       "      <th>488270</th>\n",
       "      <td>183737</td>\n",
       "      <td>1</td>\n",
       "      <td>1</td>\n",
       "      <td>0.016360</td>\n",
       "      <td>2.200000</td>\n",
       "      <td>2.200000</td>\n",
       "      <td>4</td>\n",
       "      <td>0.004950</td>\n",
       "      <td>0.000000</td>\n",
       "      <td>0.014851</td>\n",
       "      <td>...</td>\n",
       "      <td>0.186094</td>\n",
       "      <td>0.005112</td>\n",
       "      <td>0.041922</td>\n",
       "      <td>0.065235</td>\n",
       "      <td>0.127812</td>\n",
       "      <td>0.024540</td>\n",
       "      <td>0.162577</td>\n",
       "      <td>0.095092</td>\n",
       "      <td>962.513699</td>\n",
       "      <td>2</td>\n",
       "    </tr>\n",
       "    <tr>\n",
       "      <th>488443</th>\n",
       "      <td>56089298</td>\n",
       "      <td>2</td>\n",
       "      <td>1</td>\n",
       "      <td>0.009259</td>\n",
       "      <td>0.000000</td>\n",
       "      <td>0.000000</td>\n",
       "      <td>2</td>\n",
       "      <td>0.020408</td>\n",
       "      <td>0.000000</td>\n",
       "      <td>0.142857</td>\n",
       "      <td>...</td>\n",
       "      <td>0.333333</td>\n",
       "      <td>0.000000</td>\n",
       "      <td>0.046296</td>\n",
       "      <td>0.096296</td>\n",
       "      <td>0.000000</td>\n",
       "      <td>0.083333</td>\n",
       "      <td>0.046296</td>\n",
       "      <td>0.444444</td>\n",
       "      <td>218.153846</td>\n",
       "      <td>3</td>\n",
       "    </tr>\n",
       "    <tr>\n",
       "      <th>488772</th>\n",
       "      <td>43171760</td>\n",
       "      <td>2</td>\n",
       "      <td>1</td>\n",
       "      <td>0.008130</td>\n",
       "      <td>0.000000</td>\n",
       "      <td>0.000000</td>\n",
       "      <td>5</td>\n",
       "      <td>0.021277</td>\n",
       "      <td>0.000000</td>\n",
       "      <td>0.063830</td>\n",
       "      <td>...</td>\n",
       "      <td>0.252033</td>\n",
       "      <td>0.000000</td>\n",
       "      <td>0.036585</td>\n",
       "      <td>0.052033</td>\n",
       "      <td>0.000000</td>\n",
       "      <td>0.065041</td>\n",
       "      <td>0.056911</td>\n",
       "      <td>0.211382</td>\n",
       "      <td>191.110390</td>\n",
       "      <td>1</td>\n",
       "    </tr>\n",
       "  </tbody>\n",
       "</table>\n",
       "<p>1103 rows × 26 columns</p>\n",
       "</div>"
      ],
      "text/plain": [
       "          userId  tier  gender  following_rate  followers_avg_age  \\\n",
       "305     32612910     2       2        0.007812           0.000000   \n",
       "669       220196     2       1        0.050367           2.333333   \n",
       "2857     1956238     1       2        0.018416           2.214286   \n",
       "2911    50415054     2       2        0.000000           0.000000   \n",
       "3153    38896282     2       1        0.000000           0.000000   \n",
       "...          ...   ...     ...             ...                ...   \n",
       "487082  58583104     2       1        0.198020           2.500000   \n",
       "487292  38586461     1       1        0.000000           0.000000   \n",
       "488270    183737     1       1        0.016360           2.200000   \n",
       "488443  56089298     2       1        0.009259           0.000000   \n",
       "488772  43171760     2       1        0.008130           0.000000   \n",
       "\n",
       "        following_avg_age  max_repetitive_punc  num_of_hashtags_per_action  \\\n",
       "305              0.000000                    3                    0.066667   \n",
       "669              2.500000                    3                    0.642857   \n",
       "2857             3.333333                    7                    0.029412   \n",
       "2911             0.000000                    4                    0.038462   \n",
       "3153             0.000000                    0                    0.033333   \n",
       "...                   ...                  ...                         ...   \n",
       "487082           2.388889                    2                    1.800000   \n",
       "487292           0.000000                    2                    0.176471   \n",
       "488270           2.200000                    4                    0.004950   \n",
       "488443           0.000000                    2                    0.020408   \n",
       "488772           0.000000                    5                    0.021277   \n",
       "\n",
       "        emoji_count_per_action  punctuations_per_action  ...  content_views  \\\n",
       "305                   0.266667                 0.133333  ...       0.101562   \n",
       "669                   0.000000                 0.928571  ...       0.007345   \n",
       "2857                  0.019608                 0.186275  ...       0.099448   \n",
       "2911                  0.000000                 0.173077  ...       0.411765   \n",
       "3153                  0.000000                 0.066667  ...       0.448000   \n",
       "...                        ...                      ...  ...            ...   \n",
       "487082                0.000000                 1.800000  ...       0.019802   \n",
       "487292                0.000000                 0.529412  ...       0.072000   \n",
       "488270                0.000000                 0.014851  ...       0.186094   \n",
       "488443                0.000000                 0.142857  ...       0.333333   \n",
       "488772                0.000000                 0.063830  ...       0.252033   \n",
       "\n",
       "        num_of_comments  weekends_trails_watched_per_day  \\\n",
       "305            0.000000                         0.089844   \n",
       "669            0.002099                         0.000525   \n",
       "2857           0.000000                         0.013812   \n",
       "2911           0.000000                         0.033613   \n",
       "3153           0.000000                         0.212000   \n",
       "...                 ...                              ...   \n",
       "487082         0.000000                         0.000000   \n",
       "487292         0.000000                         0.004000   \n",
       "488270         0.005112                         0.041922   \n",
       "488443         0.000000                         0.046296   \n",
       "488772         0.000000                         0.036585   \n",
       "\n",
       "        weekdays_trails_watched_per_day  slot1_trails_watched_per_day  \\\n",
       "305                            0.001563                      0.000000   \n",
       "669                            0.003568                      0.015740   \n",
       "2857                           0.041252                      0.034991   \n",
       "2911                           0.073950                      0.067227   \n",
       "3153                           0.036800                      0.040000   \n",
       "...                                 ...                           ...   \n",
       "487082                         0.003960                      0.000000   \n",
       "487292                         0.022400                      0.008000   \n",
       "488270                         0.065235                      0.127812   \n",
       "488443                         0.096296                      0.000000   \n",
       "488772                         0.052033                      0.000000   \n",
       "\n",
       "        slot2_trails_watched_per_day  slot3_trails_watched_per_day  \\\n",
       "305                         0.000000                      0.007812   \n",
       "669                         0.000000                      0.001049   \n",
       "2857                        0.011050                      0.095764   \n",
       "2911                        0.000000                      0.369748   \n",
       "3153                        0.016000                      0.256000   \n",
       "...                              ...                           ...   \n",
       "487082                      0.000000                      0.000000   \n",
       "487292                      0.000000                      0.064000   \n",
       "488270                      0.024540                      0.162577   \n",
       "488443                      0.083333                      0.046296   \n",
       "488772                      0.065041                      0.056911   \n",
       "\n",
       "        slot4_trails_watched_per_day        avgt2  age_group  \n",
       "305                         0.179688   186.500000          1  \n",
       "669                         0.002099  2768.463415          2  \n",
       "2857                        0.092081   191.737533          3  \n",
       "2911                        0.000000   157.428571          2  \n",
       "3153                        0.296000   174.250000          3  \n",
       "...                              ...          ...        ...  \n",
       "487082                      0.019802   183.933333          2  \n",
       "487292                      0.048000   182.250000          2  \n",
       "488270                      0.095092   962.513699          2  \n",
       "488443                      0.444444   218.153846          3  \n",
       "488772                      0.211382   191.110390          1  \n",
       "\n",
       "[1103 rows x 26 columns]"
      ]
     },
     "execution_count": 22,
     "metadata": {},
     "output_type": "execute_result"
    }
   ],
   "source": [
    "df[df['num_of_hashtags_per_action'] > 0]"
   ]
  },
  {
   "cell_type": "code",
   "execution_count": 23,
   "id": "73af435e",
   "metadata": {
    "execution": {
     "iopub.execute_input": "2022-05-08T11:38:52.122826Z",
     "iopub.status.busy": "2022-05-08T11:38:52.122290Z",
     "iopub.status.idle": "2022-05-08T11:38:52.126933Z",
     "shell.execute_reply": "2022-05-08T11:38:52.125749Z"
    },
    "papermill": {
     "duration": 0.142525,
     "end_time": "2022-05-08T11:38:52.128959",
     "exception": false,
     "start_time": "2022-05-08T11:38:51.986434",
     "status": "completed"
    },
    "tags": []
   },
   "outputs": [
    {
     "name": "stdout",
     "output_type": "stream",
     "text": [
      "66\n"
     ]
    }
   ],
   "source": [
    "print(len(outliers))"
   ]
  },
  {
   "cell_type": "code",
   "execution_count": 24,
   "id": "d14387cb",
   "metadata": {
    "execution": {
     "iopub.execute_input": "2022-05-08T11:38:52.394654Z",
     "iopub.status.busy": "2022-05-08T11:38:52.394154Z",
     "iopub.status.idle": "2022-05-08T11:38:52.430863Z",
     "shell.execute_reply": "2022-05-08T11:38:52.430290Z"
    },
    "papermill": {
     "duration": 0.171773,
     "end_time": "2022-05-08T11:38:52.432938",
     "exception": false,
     "start_time": "2022-05-08T11:38:52.261165",
     "status": "completed"
    },
    "tags": []
   },
   "outputs": [
    {
     "data": {
      "text/html": [
       "<div>\n",
       "<style scoped>\n",
       "    .dataframe tbody tr th:only-of-type {\n",
       "        vertical-align: middle;\n",
       "    }\n",
       "\n",
       "    .dataframe tbody tr th {\n",
       "        vertical-align: top;\n",
       "    }\n",
       "\n",
       "    .dataframe thead th {\n",
       "        text-align: right;\n",
       "    }\n",
       "</style>\n",
       "<table border=\"1\" class=\"dataframe\">\n",
       "  <thead>\n",
       "    <tr style=\"text-align: right;\">\n",
       "      <th></th>\n",
       "      <th>userId</th>\n",
       "      <th>tier</th>\n",
       "      <th>gender</th>\n",
       "      <th>following_rate</th>\n",
       "      <th>followers_avg_age</th>\n",
       "      <th>following_avg_age</th>\n",
       "      <th>max_repetitive_punc</th>\n",
       "      <th>num_of_hashtags_per_action</th>\n",
       "      <th>emoji_count_per_action</th>\n",
       "      <th>punctuations_per_action</th>\n",
       "      <th>...</th>\n",
       "      <th>content_views</th>\n",
       "      <th>num_of_comments</th>\n",
       "      <th>weekends_trails_watched_per_day</th>\n",
       "      <th>weekdays_trails_watched_per_day</th>\n",
       "      <th>slot1_trails_watched_per_day</th>\n",
       "      <th>slot2_trails_watched_per_day</th>\n",
       "      <th>slot3_trails_watched_per_day</th>\n",
       "      <th>slot4_trails_watched_per_day</th>\n",
       "      <th>avgt2</th>\n",
       "      <th>age_group</th>\n",
       "    </tr>\n",
       "  </thead>\n",
       "  <tbody>\n",
       "    <tr>\n",
       "      <th>669</th>\n",
       "      <td>220196</td>\n",
       "      <td>2</td>\n",
       "      <td>1</td>\n",
       "      <td>0.050367</td>\n",
       "      <td>2.333333</td>\n",
       "      <td>2.500000</td>\n",
       "      <td>3</td>\n",
       "      <td>0.642857</td>\n",
       "      <td>0.000000</td>\n",
       "      <td>0.928571</td>\n",
       "      <td>...</td>\n",
       "      <td>0.007345</td>\n",
       "      <td>0.002099</td>\n",
       "      <td>0.000525</td>\n",
       "      <td>0.003568</td>\n",
       "      <td>0.01574</td>\n",
       "      <td>0.000000</td>\n",
       "      <td>0.001049</td>\n",
       "      <td>0.002099</td>\n",
       "      <td>2768.463415</td>\n",
       "      <td>2</td>\n",
       "    </tr>\n",
       "    <tr>\n",
       "      <th>6219</th>\n",
       "      <td>37366240</td>\n",
       "      <td>2</td>\n",
       "      <td>1</td>\n",
       "      <td>0.000000</td>\n",
       "      <td>0.000000</td>\n",
       "      <td>0.000000</td>\n",
       "      <td>2</td>\n",
       "      <td>0.600000</td>\n",
       "      <td>0.200000</td>\n",
       "      <td>2.200000</td>\n",
       "      <td>...</td>\n",
       "      <td>0.056000</td>\n",
       "      <td>0.000000</td>\n",
       "      <td>0.044000</td>\n",
       "      <td>0.000000</td>\n",
       "      <td>0.00000</td>\n",
       "      <td>0.072000</td>\n",
       "      <td>0.016000</td>\n",
       "      <td>0.000000</td>\n",
       "      <td>0.000000</td>\n",
       "      <td>1</td>\n",
       "    </tr>\n",
       "    <tr>\n",
       "      <th>12422</th>\n",
       "      <td>48683031</td>\n",
       "      <td>1</td>\n",
       "      <td>1</td>\n",
       "      <td>0.108333</td>\n",
       "      <td>2.100000</td>\n",
       "      <td>2.500000</td>\n",
       "      <td>3</td>\n",
       "      <td>0.500000</td>\n",
       "      <td>0.083333</td>\n",
       "      <td>1.583333</td>\n",
       "      <td>...</td>\n",
       "      <td>0.075000</td>\n",
       "      <td>0.000000</td>\n",
       "      <td>0.004167</td>\n",
       "      <td>0.016667</td>\n",
       "      <td>0.00000</td>\n",
       "      <td>0.066667</td>\n",
       "      <td>0.016667</td>\n",
       "      <td>0.008333</td>\n",
       "      <td>188.466667</td>\n",
       "      <td>4</td>\n",
       "    </tr>\n",
       "    <tr>\n",
       "      <th>26661</th>\n",
       "      <td>35705932</td>\n",
       "      <td>3</td>\n",
       "      <td>1</td>\n",
       "      <td>0.000000</td>\n",
       "      <td>0.000000</td>\n",
       "      <td>0.000000</td>\n",
       "      <td>0</td>\n",
       "      <td>0.500000</td>\n",
       "      <td>0.000000</td>\n",
       "      <td>1.000000</td>\n",
       "      <td>...</td>\n",
       "      <td>0.031746</td>\n",
       "      <td>0.000000</td>\n",
       "      <td>0.023810</td>\n",
       "      <td>0.017460</td>\n",
       "      <td>0.00000</td>\n",
       "      <td>0.039683</td>\n",
       "      <td>0.039683</td>\n",
       "      <td>0.055556</td>\n",
       "      <td>179.500000</td>\n",
       "      <td>3</td>\n",
       "    </tr>\n",
       "    <tr>\n",
       "      <th>28559</th>\n",
       "      <td>37874946</td>\n",
       "      <td>2</td>\n",
       "      <td>1</td>\n",
       "      <td>0.000000</td>\n",
       "      <td>0.000000</td>\n",
       "      <td>0.000000</td>\n",
       "      <td>0</td>\n",
       "      <td>0.571429</td>\n",
       "      <td>0.000000</td>\n",
       "      <td>0.571429</td>\n",
       "      <td>...</td>\n",
       "      <td>0.088000</td>\n",
       "      <td>0.008000</td>\n",
       "      <td>0.056000</td>\n",
       "      <td>0.001600</td>\n",
       "      <td>0.00000</td>\n",
       "      <td>0.000000</td>\n",
       "      <td>0.072000</td>\n",
       "      <td>0.048000</td>\n",
       "      <td>84.500000</td>\n",
       "      <td>3</td>\n",
       "    </tr>\n",
       "    <tr>\n",
       "      <th>...</th>\n",
       "      <td>...</td>\n",
       "      <td>...</td>\n",
       "      <td>...</td>\n",
       "      <td>...</td>\n",
       "      <td>...</td>\n",
       "      <td>...</td>\n",
       "      <td>...</td>\n",
       "      <td>...</td>\n",
       "      <td>...</td>\n",
       "      <td>...</td>\n",
       "      <td>...</td>\n",
       "      <td>...</td>\n",
       "      <td>...</td>\n",
       "      <td>...</td>\n",
       "      <td>...</td>\n",
       "      <td>...</td>\n",
       "      <td>...</td>\n",
       "      <td>...</td>\n",
       "      <td>...</td>\n",
       "      <td>...</td>\n",
       "      <td>...</td>\n",
       "    </tr>\n",
       "    <tr>\n",
       "      <th>463289</th>\n",
       "      <td>445970</td>\n",
       "      <td>1</td>\n",
       "      <td>1</td>\n",
       "      <td>0.020782</td>\n",
       "      <td>0.000000</td>\n",
       "      <td>0.000000</td>\n",
       "      <td>0</td>\n",
       "      <td>1.125000</td>\n",
       "      <td>0.000000</td>\n",
       "      <td>2.000000</td>\n",
       "      <td>...</td>\n",
       "      <td>0.004890</td>\n",
       "      <td>0.000000</td>\n",
       "      <td>0.000000</td>\n",
       "      <td>0.000978</td>\n",
       "      <td>0.00000</td>\n",
       "      <td>0.000000</td>\n",
       "      <td>0.000000</td>\n",
       "      <td>0.004890</td>\n",
       "      <td>16980.333330</td>\n",
       "      <td>3</td>\n",
       "    </tr>\n",
       "    <tr>\n",
       "      <th>471324</th>\n",
       "      <td>37624575</td>\n",
       "      <td>2</td>\n",
       "      <td>2</td>\n",
       "      <td>0.000000</td>\n",
       "      <td>0.000000</td>\n",
       "      <td>0.000000</td>\n",
       "      <td>0</td>\n",
       "      <td>1.666667</td>\n",
       "      <td>0.000000</td>\n",
       "      <td>1.666667</td>\n",
       "      <td>...</td>\n",
       "      <td>0.016000</td>\n",
       "      <td>0.000000</td>\n",
       "      <td>0.012000</td>\n",
       "      <td>0.000000</td>\n",
       "      <td>0.00000</td>\n",
       "      <td>0.016000</td>\n",
       "      <td>0.000000</td>\n",
       "      <td>0.008000</td>\n",
       "      <td>0.000000</td>\n",
       "      <td>1</td>\n",
       "    </tr>\n",
       "    <tr>\n",
       "      <th>472965</th>\n",
       "      <td>33119829</td>\n",
       "      <td>2</td>\n",
       "      <td>2</td>\n",
       "      <td>0.000000</td>\n",
       "      <td>0.000000</td>\n",
       "      <td>0.000000</td>\n",
       "      <td>0</td>\n",
       "      <td>0.500000</td>\n",
       "      <td>0.000000</td>\n",
       "      <td>1.000000</td>\n",
       "      <td>...</td>\n",
       "      <td>0.007874</td>\n",
       "      <td>0.000000</td>\n",
       "      <td>0.000000</td>\n",
       "      <td>0.001575</td>\n",
       "      <td>0.00000</td>\n",
       "      <td>0.007874</td>\n",
       "      <td>0.000000</td>\n",
       "      <td>0.000000</td>\n",
       "      <td>0.000000</td>\n",
       "      <td>1</td>\n",
       "    </tr>\n",
       "    <tr>\n",
       "      <th>481292</th>\n",
       "      <td>35293405</td>\n",
       "      <td>1</td>\n",
       "      <td>2</td>\n",
       "      <td>0.023810</td>\n",
       "      <td>2.000000</td>\n",
       "      <td>3.000000</td>\n",
       "      <td>5</td>\n",
       "      <td>0.600000</td>\n",
       "      <td>0.100000</td>\n",
       "      <td>3.400000</td>\n",
       "      <td>...</td>\n",
       "      <td>0.055556</td>\n",
       "      <td>0.000000</td>\n",
       "      <td>0.000000</td>\n",
       "      <td>0.022222</td>\n",
       "      <td>0.00000</td>\n",
       "      <td>0.000000</td>\n",
       "      <td>0.095238</td>\n",
       "      <td>0.015873</td>\n",
       "      <td>136.600000</td>\n",
       "      <td>2</td>\n",
       "    </tr>\n",
       "    <tr>\n",
       "      <th>487082</th>\n",
       "      <td>58583104</td>\n",
       "      <td>2</td>\n",
       "      <td>1</td>\n",
       "      <td>0.198020</td>\n",
       "      <td>2.500000</td>\n",
       "      <td>2.388889</td>\n",
       "      <td>2</td>\n",
       "      <td>1.800000</td>\n",
       "      <td>0.000000</td>\n",
       "      <td>1.800000</td>\n",
       "      <td>...</td>\n",
       "      <td>0.019802</td>\n",
       "      <td>0.000000</td>\n",
       "      <td>0.000000</td>\n",
       "      <td>0.003960</td>\n",
       "      <td>0.00000</td>\n",
       "      <td>0.000000</td>\n",
       "      <td>0.000000</td>\n",
       "      <td>0.019802</td>\n",
       "      <td>183.933333</td>\n",
       "      <td>2</td>\n",
       "    </tr>\n",
       "  </tbody>\n",
       "</table>\n",
       "<p>66 rows × 26 columns</p>\n",
       "</div>"
      ],
      "text/plain": [
       "          userId  tier  gender  following_rate  followers_avg_age  \\\n",
       "669       220196     2       1        0.050367           2.333333   \n",
       "6219    37366240     2       1        0.000000           0.000000   \n",
       "12422   48683031     1       1        0.108333           2.100000   \n",
       "26661   35705932     3       1        0.000000           0.000000   \n",
       "28559   37874946     2       1        0.000000           0.000000   \n",
       "...          ...   ...     ...             ...                ...   \n",
       "463289    445970     1       1        0.020782           0.000000   \n",
       "471324  37624575     2       2        0.000000           0.000000   \n",
       "472965  33119829     2       2        0.000000           0.000000   \n",
       "481292  35293405     1       2        0.023810           2.000000   \n",
       "487082  58583104     2       1        0.198020           2.500000   \n",
       "\n",
       "        following_avg_age  max_repetitive_punc  num_of_hashtags_per_action  \\\n",
       "669              2.500000                    3                    0.642857   \n",
       "6219             0.000000                    2                    0.600000   \n",
       "12422            2.500000                    3                    0.500000   \n",
       "26661            0.000000                    0                    0.500000   \n",
       "28559            0.000000                    0                    0.571429   \n",
       "...                   ...                  ...                         ...   \n",
       "463289           0.000000                    0                    1.125000   \n",
       "471324           0.000000                    0                    1.666667   \n",
       "472965           0.000000                    0                    0.500000   \n",
       "481292           3.000000                    5                    0.600000   \n",
       "487082           2.388889                    2                    1.800000   \n",
       "\n",
       "        emoji_count_per_action  punctuations_per_action  ...  content_views  \\\n",
       "669                   0.000000                 0.928571  ...       0.007345   \n",
       "6219                  0.200000                 2.200000  ...       0.056000   \n",
       "12422                 0.083333                 1.583333  ...       0.075000   \n",
       "26661                 0.000000                 1.000000  ...       0.031746   \n",
       "28559                 0.000000                 0.571429  ...       0.088000   \n",
       "...                        ...                      ...  ...            ...   \n",
       "463289                0.000000                 2.000000  ...       0.004890   \n",
       "471324                0.000000                 1.666667  ...       0.016000   \n",
       "472965                0.000000                 1.000000  ...       0.007874   \n",
       "481292                0.100000                 3.400000  ...       0.055556   \n",
       "487082                0.000000                 1.800000  ...       0.019802   \n",
       "\n",
       "        num_of_comments  weekends_trails_watched_per_day  \\\n",
       "669            0.002099                         0.000525   \n",
       "6219           0.000000                         0.044000   \n",
       "12422          0.000000                         0.004167   \n",
       "26661          0.000000                         0.023810   \n",
       "28559          0.008000                         0.056000   \n",
       "...                 ...                              ...   \n",
       "463289         0.000000                         0.000000   \n",
       "471324         0.000000                         0.012000   \n",
       "472965         0.000000                         0.000000   \n",
       "481292         0.000000                         0.000000   \n",
       "487082         0.000000                         0.000000   \n",
       "\n",
       "        weekdays_trails_watched_per_day  slot1_trails_watched_per_day  \\\n",
       "669                            0.003568                       0.01574   \n",
       "6219                           0.000000                       0.00000   \n",
       "12422                          0.016667                       0.00000   \n",
       "26661                          0.017460                       0.00000   \n",
       "28559                          0.001600                       0.00000   \n",
       "...                                 ...                           ...   \n",
       "463289                         0.000978                       0.00000   \n",
       "471324                         0.000000                       0.00000   \n",
       "472965                         0.001575                       0.00000   \n",
       "481292                         0.022222                       0.00000   \n",
       "487082                         0.003960                       0.00000   \n",
       "\n",
       "        slot2_trails_watched_per_day  slot3_trails_watched_per_day  \\\n",
       "669                         0.000000                      0.001049   \n",
       "6219                        0.072000                      0.016000   \n",
       "12422                       0.066667                      0.016667   \n",
       "26661                       0.039683                      0.039683   \n",
       "28559                       0.000000                      0.072000   \n",
       "...                              ...                           ...   \n",
       "463289                      0.000000                      0.000000   \n",
       "471324                      0.016000                      0.000000   \n",
       "472965                      0.007874                      0.000000   \n",
       "481292                      0.000000                      0.095238   \n",
       "487082                      0.000000                      0.000000   \n",
       "\n",
       "        slot4_trails_watched_per_day         avgt2  age_group  \n",
       "669                         0.002099   2768.463415          2  \n",
       "6219                        0.000000      0.000000          1  \n",
       "12422                       0.008333    188.466667          4  \n",
       "26661                       0.055556    179.500000          3  \n",
       "28559                       0.048000     84.500000          3  \n",
       "...                              ...           ...        ...  \n",
       "463289                      0.004890  16980.333330          3  \n",
       "471324                      0.008000      0.000000          1  \n",
       "472965                      0.000000      0.000000          1  \n",
       "481292                      0.015873    136.600000          2  \n",
       "487082                      0.019802    183.933333          2  \n",
       "\n",
       "[66 rows x 26 columns]"
      ]
     },
     "execution_count": 24,
     "metadata": {},
     "output_type": "execute_result"
    }
   ],
   "source": [
    "outliers = df.query('@outliers in num_of_hashtags_per_action')\n",
    "outliers"
   ]
  },
  {
   "cell_type": "code",
   "execution_count": 25,
   "id": "12e35b15",
   "metadata": {
    "execution": {
     "iopub.execute_input": "2022-05-08T11:38:52.700803Z",
     "iopub.status.busy": "2022-05-08T11:38:52.700537Z",
     "iopub.status.idle": "2022-05-08T11:38:52.706001Z",
     "shell.execute_reply": "2022-05-08T11:38:52.705461Z"
    },
    "papermill": {
     "duration": 0.141197,
     "end_time": "2022-05-08T11:38:52.708195",
     "exception": false,
     "start_time": "2022-05-08T11:38:52.566998",
     "status": "completed"
    },
    "tags": []
   },
   "outputs": [
    {
     "data": {
      "text/plain": [
       "Int64Index([   669,   6219,  12422,  26661,  28559,  33185,  46433,  66945,\n",
       "             78436,  95455,  95857, 113932, 126613, 130550, 131033, 138332,\n",
       "            141682, 149163, 176592, 181847, 198807, 200577, 205436, 209230,\n",
       "            210512, 213022, 225406, 225784, 230990, 231929, 241003, 258616,\n",
       "            259014, 260577, 261294, 286634, 295596, 308141, 310703, 322958,\n",
       "            323373, 328697, 340031, 343179, 346085, 346965, 349632, 351170,\n",
       "            353876, 364094, 368187, 369756, 393818, 394701, 395719, 421302,\n",
       "            422484, 428001, 435517, 443209, 455769, 463289, 471324, 472965,\n",
       "            481292, 487082],\n",
       "           dtype='int64')"
      ]
     },
     "execution_count": 25,
     "metadata": {},
     "output_type": "execute_result"
    }
   ],
   "source": [
    "outliers.index"
   ]
  },
  {
   "cell_type": "code",
   "execution_count": 26,
   "id": "834886e0",
   "metadata": {
    "execution": {
     "iopub.execute_input": "2022-05-08T11:38:53.003800Z",
     "iopub.status.busy": "2022-05-08T11:38:53.003152Z",
     "iopub.status.idle": "2022-05-08T11:38:53.075561Z",
     "shell.execute_reply": "2022-05-08T11:38:53.074745Z"
    },
    "papermill": {
     "duration": 0.237386,
     "end_time": "2022-05-08T11:38:53.077599",
     "exception": false,
     "start_time": "2022-05-08T11:38:52.840213",
     "status": "completed"
    },
    "tags": []
   },
   "outputs": [
    {
     "data": {
      "text/plain": [
       "(488811, 26)"
      ]
     },
     "execution_count": 26,
     "metadata": {},
     "output_type": "execute_result"
    }
   ],
   "source": [
    "df_filtered = df.drop(outliers.index , axis = 0)\n",
    "df_filtered.shape"
   ]
  },
  {
   "cell_type": "code",
   "execution_count": 27,
   "id": "85bab8b4",
   "metadata": {
    "execution": {
     "iopub.execute_input": "2022-05-08T11:38:53.348319Z",
     "iopub.status.busy": "2022-05-08T11:38:53.347881Z",
     "iopub.status.idle": "2022-05-08T11:38:53.354118Z",
     "shell.execute_reply": "2022-05-08T11:38:53.353249Z"
    },
    "papermill": {
     "duration": 0.144728,
     "end_time": "2022-05-08T11:38:53.356113",
     "exception": false,
     "start_time": "2022-05-08T11:38:53.211385",
     "status": "completed"
    },
    "tags": []
   },
   "outputs": [
    {
     "data": {
      "text/plain": [
       "66"
      ]
     },
     "execution_count": 27,
     "metadata": {},
     "output_type": "execute_result"
    }
   ],
   "source": [
    "df.shape[0] - df_filtered.shape[0]"
   ]
  },
  {
   "cell_type": "code",
   "execution_count": 28,
   "id": "7c873925",
   "metadata": {
    "execution": {
     "iopub.execute_input": "2022-05-08T11:38:53.630327Z",
     "iopub.status.busy": "2022-05-08T11:38:53.629937Z",
     "iopub.status.idle": "2022-05-08T11:38:54.169708Z",
     "shell.execute_reply": "2022-05-08T11:38:54.168754Z"
    },
    "papermill": {
     "duration": 0.679221,
     "end_time": "2022-05-08T11:38:54.172078",
     "exception": false,
     "start_time": "2022-05-08T11:38:53.492857",
     "status": "completed"
    },
    "tags": []
   },
   "outputs": [
    {
     "data": {
      "text/plain": [
       "Text(0.5, 1.0, '#hashtags_per_action Values AFTER removing outliers \\n')"
      ]
     },
     "execution_count": 28,
     "metadata": {},
     "output_type": "execute_result"
    },
    {
     "data": {
      "image/png": "[encoded data removed]",
      "text/plain": [
       "<Figure size 1080x360 with 2 Axes>"
      ]
     },
     "metadata": {
      "needs_background": "light"
     },
     "output_type": "display_data"
    }
   ],
   "source": [
    "plt.figure(figsize=(15,5))\n",
    "plt.subplot(121)\n",
    "plt.plot(df['num_of_hashtags_per_action'].values)\n",
    "plt.title('#hashtags_per_action Values BEFORE removing outliers \\n',fontsize=15)\n",
    "\n",
    "plt.subplot(122)\n",
    "plt.plot(df_filtered['num_of_hashtags_per_action'].values)\n",
    "plt.title('#hashtags_per_action Values AFTER removing outliers \\n',fontsize=15)"
   ]
  },
  {
   "cell_type": "markdown",
   "id": "ee7f9854",
   "metadata": {
    "papermill": {
     "duration": 0.134441,
     "end_time": "2022-05-08T11:38:54.441968",
     "exception": false,
     "start_time": "2022-05-08T11:38:54.307527",
     "status": "completed"
    },
    "tags": []
   },
   "source": [
    "# Remove outliers from each age group separately"
   ]
  },
  {
   "cell_type": "code",
   "execution_count": 29,
   "id": "709137ce",
   "metadata": {
    "execution": {
     "iopub.execute_input": "2022-05-08T11:38:54.715464Z",
     "iopub.status.busy": "2022-05-08T11:38:54.715198Z",
     "iopub.status.idle": "2022-05-08T11:38:54.762866Z",
     "shell.execute_reply": "2022-05-08T11:38:54.762007Z"
    },
    "papermill": {
     "duration": 0.188024,
     "end_time": "2022-05-08T11:38:54.764933",
     "exception": false,
     "start_time": "2022-05-08T11:38:54.576909",
     "status": "completed"
    },
    "tags": []
   },
   "outputs": [
    {
     "data": {
      "text/plain": [
       "(308287, 26)"
      ]
     },
     "execution_count": 29,
     "metadata": {},
     "output_type": "execute_result"
    }
   ],
   "source": [
    "df_filtered_age_group1 = pd.DataFrame(df_filtered[df_filtered['age_group'] == 1])\n",
    "df_filtered_age_group1.shape"
   ]
  },
  {
   "cell_type": "code",
   "execution_count": 30,
   "id": "90963d37",
   "metadata": {
    "execution": {
     "iopub.execute_input": "2022-05-08T11:38:55.041438Z",
     "iopub.status.busy": "2022-05-08T11:38:55.041022Z",
     "iopub.status.idle": "2022-05-08T11:38:55.353673Z",
     "shell.execute_reply": "2022-05-08T11:38:55.352789Z"
    },
    "papermill": {
     "duration": 0.453746,
     "end_time": "2022-05-08T11:38:55.355952",
     "exception": false,
     "start_time": "2022-05-08T11:38:54.902206",
     "status": "completed"
    },
    "tags": []
   },
   "outputs": [
    {
     "name": "stdout",
     "output_type": "stream",
     "text": [
      "column name: avgTimeSpent\n",
      "7\n",
      "308280\n",
      "column name: content_views\n",
      "8574\n",
      "299706\n",
      "column name: creations\n",
      "2931\n",
      "296775\n",
      "column name: avgt2\n",
      "928\n",
      "295847\n",
      "column name: number_of_words_per_action\n",
      "7142\n",
      "288705\n",
      "column name: avgTimeSpent\n",
      "1226\n",
      "287479\n"
     ]
    }
   ],
   "source": [
    "Clean_Again = ['avgTimeSpent', 'content_views' , 'creations', 'avgt2', 'number_of_words_per_action' , 'avgTimeSpent']\n",
    "\n",
    "for x in Clean_Again:\n",
    "        print('column name:', x)\n",
    "        upper_limit = df_filtered_age_group1[x].mean() + 2 * df_filtered_age_group1[x].std()\n",
    "        lower_limit = df_filtered_age_group1[x].mean() - 2 * df_filtered_age_group1[x].std()\n",
    "\n",
    "        outliers = df_filtered_age_group1[(df_filtered_age_group1[x]>upper_limit) | (df_filtered_age_group1[x]<lower_limit)]\n",
    "        print(len(outliers))\n",
    "\n",
    "\n",
    "        df_filtered_age_group1.drop(outliers.index , axis = 0 , inplace= True)\n",
    "        print(df_filtered_age_group1.shape[0])"
   ]
  },
  {
   "cell_type": "code",
   "execution_count": 31,
   "id": "2dfc6a6e",
   "metadata": {
    "execution": {
     "iopub.execute_input": "2022-05-08T11:38:55.635700Z",
     "iopub.status.busy": "2022-05-08T11:38:55.635431Z",
     "iopub.status.idle": "2022-05-08T11:38:55.654169Z",
     "shell.execute_reply": "2022-05-08T11:38:55.653612Z"
    },
    "papermill": {
     "duration": 0.160374,
     "end_time": "2022-05-08T11:38:55.656030",
     "exception": false,
     "start_time": "2022-05-08T11:38:55.495656",
     "status": "completed"
    },
    "tags": []
   },
   "outputs": [
    {
     "data": {
      "text/plain": [
       "(59335, 26)"
      ]
     },
     "execution_count": 31,
     "metadata": {},
     "output_type": "execute_result"
    }
   ],
   "source": [
    "df_filtered_age_group2 = pd.DataFrame(df_filtered[df_filtered['age_group'] == 2])\n",
    "df_filtered_age_group2.shape"
   ]
  },
  {
   "cell_type": "code",
   "execution_count": 32,
   "id": "9087f552",
   "metadata": {
    "execution": {
     "iopub.execute_input": "2022-05-08T11:38:55.938790Z",
     "iopub.status.busy": "2022-05-08T11:38:55.938268Z",
     "iopub.status.idle": "2022-05-08T11:38:56.006269Z",
     "shell.execute_reply": "2022-05-08T11:38:56.005224Z"
    },
    "papermill": {
     "duration": 0.211328,
     "end_time": "2022-05-08T11:38:56.008942",
     "exception": false,
     "start_time": "2022-05-08T11:38:55.797614",
     "status": "completed"
    },
    "tags": []
   },
   "outputs": [
    {
     "name": "stdout",
     "output_type": "stream",
     "text": [
      "column name: avgTimeSpent\n",
      "99\n",
      "59236\n",
      "column name: content_views\n",
      "1785\n",
      "57451\n",
      "column name: creations\n",
      "599\n",
      "56852\n",
      "column name: avgt2\n",
      "788\n",
      "56064\n",
      "column name: number_of_words_per_action\n",
      "2256\n",
      "53808\n",
      "column name: avgTimeSpent\n",
      "1163\n",
      "52645\n"
     ]
    }
   ],
   "source": [
    "Clean_Again = ['avgTimeSpent', 'content_views' , 'creations', 'avgt2', 'number_of_words_per_action' , 'avgTimeSpent']\n",
    "\n",
    "for x in Clean_Again:\n",
    "        print('column name:', x)\n",
    "        upper_limit = df_filtered_age_group2[x].mean() + 2 * df_filtered_age_group2[x].std()\n",
    "        lower_limit = df_filtered_age_group2[x].mean() - 2 * df_filtered_age_group2[x].std()\n",
    "\n",
    "        outliers = df_filtered_age_group2[(df_filtered_age_group2[x]>upper_limit) | (df_filtered_age_group2[x]<lower_limit)]\n",
    "        print(len(outliers))\n",
    "\n",
    "\n",
    "        df_filtered_age_group2.drop(outliers.index , axis = 0 , inplace= True)\n",
    "        print(df_filtered_age_group2.shape[0])"
   ]
  },
  {
   "cell_type": "code",
   "execution_count": 33,
   "id": "4699d0b4",
   "metadata": {
    "execution": {
     "iopub.execute_input": "2022-05-08T11:38:56.286217Z",
     "iopub.status.busy": "2022-05-08T11:38:56.285928Z",
     "iopub.status.idle": "2022-05-08T11:38:56.304349Z",
     "shell.execute_reply": "2022-05-08T11:38:56.303827Z"
    },
    "papermill": {
     "duration": 0.1589,
     "end_time": "2022-05-08T11:38:56.306018",
     "exception": false,
     "start_time": "2022-05-08T11:38:56.147118",
     "status": "completed"
    },
    "tags": []
   },
   "outputs": [
    {
     "data": {
      "text/plain": [
       "(60388, 26)"
      ]
     },
     "execution_count": 33,
     "metadata": {},
     "output_type": "execute_result"
    }
   ],
   "source": [
    "df_filtered_age_group3 = pd.DataFrame(df_filtered[df_filtered['age_group'] == 3])\n",
    "df_filtered_age_group3.shape"
   ]
  },
  {
   "cell_type": "code",
   "execution_count": 34,
   "id": "60f2e0b4",
   "metadata": {
    "execution": {
     "iopub.execute_input": "2022-05-08T11:38:56.584785Z",
     "iopub.status.busy": "2022-05-08T11:38:56.584289Z",
     "iopub.status.idle": "2022-05-08T11:38:56.646971Z",
     "shell.execute_reply": "2022-05-08T11:38:56.645954Z"
    },
    "papermill": {
     "duration": 0.206002,
     "end_time": "2022-05-08T11:38:56.649574",
     "exception": false,
     "start_time": "2022-05-08T11:38:56.443572",
     "status": "completed"
    },
    "tags": []
   },
   "outputs": [
    {
     "name": "stdout",
     "output_type": "stream",
     "text": [
      "column name: avgTimeSpent\n",
      "1\n",
      "60387\n",
      "column name: content_views\n",
      "2062\n",
      "58325\n",
      "column name: creations\n",
      "942\n",
      "57383\n",
      "column name: avgt2\n",
      "1003\n",
      "56380\n",
      "column name: number_of_words_per_action\n",
      "1750\n",
      "54630\n"
     ]
    }
   ],
   "source": [
    "Clean_Again = ['avgTimeSpent', 'content_views' , 'creations', 'avgt2', 'number_of_words_per_action']\n",
    "\n",
    "for x in Clean_Again:\n",
    "        print('column name:', x)\n",
    "        upper_limit = df_filtered_age_group3[x].mean() + 2 * df_filtered_age_group3[x].std()\n",
    "        lower_limit = df_filtered_age_group3[x].mean() - 2 * df_filtered_age_group3[x].std()\n",
    "\n",
    "        outliers = df_filtered_age_group3[(df_filtered_age_group3[x]>upper_limit) | (df_filtered_age_group3[x]<lower_limit)]\n",
    "        print(len(outliers))\n",
    "\n",
    "\n",
    "        df_filtered_age_group3.drop(outliers.index , axis = 0 , inplace= True)\n",
    "        print(df_filtered_age_group3.shape[0])"
   ]
  },
  {
   "cell_type": "code",
   "execution_count": 35,
   "id": "6ae6e6d1",
   "metadata": {
    "execution": {
     "iopub.execute_input": "2022-05-08T11:38:56.933576Z",
     "iopub.status.busy": "2022-05-08T11:38:56.933325Z",
     "iopub.status.idle": "2022-05-08T11:38:56.954154Z",
     "shell.execute_reply": "2022-05-08T11:38:56.953302Z"
    },
    "papermill": {
     "duration": 0.166933,
     "end_time": "2022-05-08T11:38:56.956108",
     "exception": false,
     "start_time": "2022-05-08T11:38:56.789175",
     "status": "completed"
    },
    "tags": []
   },
   "outputs": [
    {
     "data": {
      "text/plain": [
       "(60801, 26)"
      ]
     },
     "execution_count": 35,
     "metadata": {},
     "output_type": "execute_result"
    }
   ],
   "source": [
    "df_filtered_age_group4 = pd.DataFrame(df_filtered[df_filtered['age_group'] == 4])\n",
    "df_filtered_age_group4.shape"
   ]
  },
  {
   "cell_type": "code",
   "execution_count": 36,
   "id": "25db9d05",
   "metadata": {
    "execution": {
     "iopub.execute_input": "2022-05-08T11:38:57.239776Z",
     "iopub.status.busy": "2022-05-08T11:38:57.239326Z",
     "iopub.status.idle": "2022-05-08T11:38:57.299712Z",
     "shell.execute_reply": "2022-05-08T11:38:57.299052Z"
    },
    "papermill": {
     "duration": 0.203151,
     "end_time": "2022-05-08T11:38:57.302155",
     "exception": false,
     "start_time": "2022-05-08T11:38:57.099004",
     "status": "completed"
    },
    "tags": []
   },
   "outputs": [
    {
     "name": "stdout",
     "output_type": "stream",
     "text": [
      "column name: avgTimeSpent\n",
      "328\n",
      "60473\n",
      "column name: content_views\n",
      "2391\n",
      "58082\n",
      "column name: creations\n",
      "698\n",
      "57384\n",
      "column name: avgt2\n",
      "832\n",
      "56552\n",
      "column name: number_of_words_per_action\n",
      "394\n",
      "56158\n"
     ]
    }
   ],
   "source": [
    "Clean_Again = ['avgTimeSpent', 'content_views' , 'creations', 'avgt2', 'number_of_words_per_action']\n",
    "\n",
    "for x in Clean_Again:\n",
    "        print('column name:', x)\n",
    "        upper_limit = df_filtered_age_group4[x].mean() + 2 * df_filtered_age_group4[x].std()\n",
    "        lower_limit = df_filtered_age_group4[x].mean() - 2 * df_filtered_age_group4[x].std()\n",
    "\n",
    "        outliers = df_filtered_age_group4[(df_filtered_age_group4[x]>upper_limit) | (df_filtered_age_group4[x]<lower_limit)]\n",
    "        print(len(outliers))\n",
    "\n",
    "\n",
    "        df_filtered_age_group4.drop(outliers.index , axis = 0 , inplace= True)\n",
    "        print(df_filtered_age_group4.shape[0])"
   ]
  },
  {
   "cell_type": "markdown",
   "id": "931c2817",
   "metadata": {
    "papermill": {
     "duration": 0.140308,
     "end_time": "2022-05-08T11:38:57.581963",
     "exception": false,
     "start_time": "2022-05-08T11:38:57.441655",
     "status": "completed"
    },
    "tags": []
   },
   "source": [
    "# After Cleaning Our DF  we get the following"
   ]
  },
  {
   "cell_type": "code",
   "execution_count": 37,
   "id": "4bd03472",
   "metadata": {
    "execution": {
     "iopub.execute_input": "2022-05-08T11:38:57.862325Z",
     "iopub.status.busy": "2022-05-08T11:38:57.861866Z",
     "iopub.status.idle": "2022-05-08T11:38:57.866435Z",
     "shell.execute_reply": "2022-05-08T11:38:57.865871Z"
    },
    "papermill": {
     "duration": 0.147992,
     "end_time": "2022-05-08T11:38:57.868183",
     "exception": false,
     "start_time": "2022-05-08T11:38:57.720191",
     "status": "completed"
    },
    "tags": []
   },
   "outputs": [
    {
     "data": {
      "text/plain": [
       "(488811, 26)"
      ]
     },
     "execution_count": 37,
     "metadata": {},
     "output_type": "execute_result"
    }
   ],
   "source": [
    "df_filtered.shape"
   ]
  },
  {
   "cell_type": "code",
   "execution_count": 38,
   "id": "6ccb681a",
   "metadata": {
    "execution": {
     "iopub.execute_input": "2022-05-08T11:38:58.154946Z",
     "iopub.status.busy": "2022-05-08T11:38:58.154478Z",
     "iopub.status.idle": "2022-05-08T11:38:58.234751Z",
     "shell.execute_reply": "2022-05-08T11:38:58.233929Z"
    },
    "papermill": {
     "duration": 0.227537,
     "end_time": "2022-05-08T11:38:58.237140",
     "exception": false,
     "start_time": "2022-05-08T11:38:58.009603",
     "status": "completed"
    },
    "tags": []
   },
   "outputs": [],
   "source": [
    "df = pd.concat([df_filtered_age_group1 , df_filtered_age_group2 , df_filtered_age_group3 , df_filtered_age_group4], axis=0)"
   ]
  },
  {
   "cell_type": "code",
   "execution_count": 39,
   "id": "be5c8f2d",
   "metadata": {
    "execution": {
     "iopub.execute_input": "2022-05-08T11:38:58.521461Z",
     "iopub.status.busy": "2022-05-08T11:38:58.521014Z",
     "iopub.status.idle": "2022-05-08T11:38:58.525958Z",
     "shell.execute_reply": "2022-05-08T11:38:58.525102Z"
    },
    "papermill": {
     "duration": 0.147566,
     "end_time": "2022-05-08T11:38:58.527886",
     "exception": false,
     "start_time": "2022-05-08T11:38:58.380320",
     "status": "completed"
    },
    "tags": []
   },
   "outputs": [
    {
     "data": {
      "text/plain": [
       "(450912, 26)"
      ]
     },
     "execution_count": 39,
     "metadata": {},
     "output_type": "execute_result"
    }
   ],
   "source": [
    "df.shape"
   ]
  },
  {
   "cell_type": "code",
   "execution_count": null,
   "id": "063482ae",
   "metadata": {
    "papermill": {
     "duration": 0.140546,
     "end_time": "2022-05-08T11:38:58.813142",
     "exception": false,
     "start_time": "2022-05-08T11:38:58.672596",
     "status": "completed"
    },
    "tags": []
   },
   "outputs": [],
   "source": []
  },
  {
   "cell_type": "markdown",
   "id": "7b9d1347",
   "metadata": {
    "papermill": {
     "duration": 0.141843,
     "end_time": "2022-05-08T11:38:59.100621",
     "exception": false,
     "start_time": "2022-05-08T11:38:58.958778",
     "status": "completed"
    },
    "tags": []
   },
   "source": [
    "## Better way to see raltions by plotting the data\n",
    "### We would like to see which tier is the most popular along with the age"
   ]
  },
  {
   "cell_type": "code",
   "execution_count": 40,
   "id": "0c02737f",
   "metadata": {
    "execution": {
     "iopub.execute_input": "2022-05-08T11:38:59.380852Z",
     "iopub.status.busy": "2022-05-08T11:38:59.380586Z",
     "iopub.status.idle": "2022-05-08T11:38:59.386933Z",
     "shell.execute_reply": "2022-05-08T11:38:59.386139Z"
    },
    "papermill": {
     "duration": 0.148591,
     "end_time": "2022-05-08T11:38:59.388784",
     "exception": false,
     "start_time": "2022-05-08T11:38:59.240193",
     "status": "completed"
    },
    "tags": []
   },
   "outputs": [],
   "source": [
    "import matplotlib.pyplot as plt\n",
    "import seaborn as sns\n",
    "sns.set_theme(style=\"whitegrid\")\n",
    "%matplotlib inline"
   ]
  },
  {
   "cell_type": "code",
   "execution_count": 41,
   "id": "c0e40965",
   "metadata": {
    "execution": {
     "iopub.execute_input": "2022-05-08T11:38:59.670450Z",
     "iopub.status.busy": "2022-05-08T11:38:59.670169Z",
     "iopub.status.idle": "2022-05-08T11:39:00.120950Z",
     "shell.execute_reply": "2022-05-08T11:39:00.120075Z"
    },
    "papermill": {
     "duration": 0.594535,
     "end_time": "2022-05-08T11:39:00.122956",
     "exception": false,
     "start_time": "2022-05-08T11:38:59.528421",
     "status": "completed"
    },
    "tags": []
   },
   "outputs": [
    {
     "data": {
      "image/png": "[encoded data removed]",
      "text/plain": [
       "<Figure size 432x288 with 1 Axes>"
      ]
     },
     "metadata": {
      "needs_background": "light"
     },
     "output_type": "display_data"
    },
    {
     "data": {
      "image/png": "[encoded data removed]",
      "text/plain": [
       "<Figure size 432x288 with 1 Axes>"
      ]
     },
     "metadata": {
      "needs_background": "light"
     },
     "output_type": "display_data"
    }
   ],
   "source": [
    "for column in df[['tier' , 'age_group']]:\n",
    "    plt.figure()\n",
    "    sns.barplot(x = df[column].unique() , y = df[column].value_counts() , data = df)\n",
    "    plt.show()\n",
    "    "
   ]
  },
  {
   "cell_type": "markdown",
   "id": "dde2520f",
   "metadata": {
    "papermill": {
     "duration": 0.140383,
     "end_time": "2022-05-08T11:39:00.406056",
     "exception": false,
     "start_time": "2022-05-08T11:39:00.265673",
     "status": "completed"
    },
    "tags": []
   },
   "source": [
    "### Distrubution of the age represnted as a %"
   ]
  },
  {
   "cell_type": "code",
   "execution_count": 42,
   "id": "5e9cad3d",
   "metadata": {
    "execution": {
     "iopub.execute_input": "2022-05-08T11:39:00.693217Z",
     "iopub.status.busy": "2022-05-08T11:39:00.692959Z",
     "iopub.status.idle": "2022-05-08T11:39:00.702607Z",
     "shell.execute_reply": "2022-05-08T11:39:00.701853Z"
    },
    "papermill": {
     "duration": 0.157577,
     "end_time": "2022-05-08T11:39:00.704643",
     "exception": false,
     "start_time": "2022-05-08T11:39:00.547066",
     "status": "completed"
    },
    "tags": []
   },
   "outputs": [
    {
     "data": {
      "text/plain": [
       "1    287479\n",
       "4     56158\n",
       "3     54630\n",
       "2     52645\n",
       "Name: age_group, dtype: int64"
      ]
     },
     "execution_count": 42,
     "metadata": {},
     "output_type": "execute_result"
    }
   ],
   "source": [
    "df['age_group'].value_counts()"
   ]
  },
  {
   "cell_type": "code",
   "execution_count": 43,
   "id": "5949fa2a",
   "metadata": {
    "execution": {
     "iopub.execute_input": "2022-05-08T11:39:00.992798Z",
     "iopub.status.busy": "2022-05-08T11:39:00.992373Z",
     "iopub.status.idle": "2022-05-08T11:39:01.003086Z",
     "shell.execute_reply": "2022-05-08T11:39:01.002252Z"
    },
    "papermill": {
     "duration": 0.157099,
     "end_time": "2022-05-08T11:39:01.005054",
     "exception": false,
     "start_time": "2022-05-08T11:39:00.847955",
     "status": "completed"
    },
    "tags": []
   },
   "outputs": [
    {
     "data": {
      "text/plain": [
       "1    63.755012\n",
       "4    12.454315\n",
       "3    12.115446\n",
       "2    11.675227\n",
       "Name: age_group, dtype: float64"
      ]
     },
     "execution_count": 43,
     "metadata": {},
     "output_type": "execute_result"
    }
   ],
   "source": [
    "(df['age_group'].value_counts() / df.shape[0] * 100)\n"
   ]
  },
  {
   "cell_type": "markdown",
   "id": "efe8f581",
   "metadata": {
    "papermill": {
     "duration": 0.14297,
     "end_time": "2022-05-08T11:39:01.289686",
     "exception": false,
     "start_time": "2022-05-08T11:39:01.146716",
     "status": "completed"
    },
    "tags": []
   },
   "source": [
    "## Observe the relations between the features\n",
    "\n",
    "### Our goal is to determine the most corellated feature with the age group \n",
    "\n",
    "## 1 is identical -1 There are no relation"
   ]
  },
  {
   "cell_type": "code",
   "execution_count": 44,
   "id": "4f3164b8",
   "metadata": {
    "execution": {
     "iopub.execute_input": "2022-05-08T11:39:01.578067Z",
     "iopub.status.busy": "2022-05-08T11:39:01.577645Z",
     "iopub.status.idle": "2022-05-08T11:39:02.969972Z",
     "shell.execute_reply": "2022-05-08T11:39:02.968845Z"
    },
    "papermill": {
     "duration": 1.540328,
     "end_time": "2022-05-08T11:39:02.972457",
     "exception": false,
     "start_time": "2022-05-08T11:39:01.432129",
     "status": "completed"
    },
    "tags": []
   },
   "outputs": [
    {
     "data": {
      "text/plain": [
       "<AxesSubplot:>"
      ]
     },
     "execution_count": 44,
     "metadata": {},
     "output_type": "execute_result"
    },
    {
     "data": {
      "image/png": "[encoded data removed]",
      "text/plain": [
       "<Figure size 432x288 with 2 Axes>"
      ]
     },
     "metadata": {
      "needs_background": "light"
     },
     "output_type": "display_data"
    }
   ],
   "source": [
    "plt.figure(figsize=(6,4))\n",
    "\n",
    "sns.heatmap(df.corr() , cmap=\"Greens\" , linewidths=0.5)"
   ]
  },
  {
   "cell_type": "code",
   "execution_count": 45,
   "id": "3cbc29cf",
   "metadata": {
    "execution": {
     "iopub.execute_input": "2022-05-08T11:39:03.266315Z",
     "iopub.status.busy": "2022-05-08T11:39:03.265357Z",
     "iopub.status.idle": "2022-05-08T11:39:05.140456Z",
     "shell.execute_reply": "2022-05-08T11:39:05.139648Z"
    },
    "papermill": {
     "duration": 2.022789,
     "end_time": "2022-05-08T11:39:05.142544",
     "exception": false,
     "start_time": "2022-05-08T11:39:03.119755",
     "status": "completed"
    },
    "tags": []
   },
   "outputs": [
    {
     "data": {
      "text/html": [
       "<div>\n",
       "<style scoped>\n",
       "    .dataframe tbody tr th:only-of-type {\n",
       "        vertical-align: middle;\n",
       "    }\n",
       "\n",
       "    .dataframe tbody tr th {\n",
       "        vertical-align: top;\n",
       "    }\n",
       "\n",
       "    .dataframe thead th {\n",
       "        text-align: right;\n",
       "    }\n",
       "</style>\n",
       "<table border=\"1\" class=\"dataframe\">\n",
       "  <thead>\n",
       "    <tr style=\"text-align: right;\">\n",
       "      <th></th>\n",
       "      <th>feature</th>\n",
       "      <th>correlation</th>\n",
       "      <th>correlation_p_value</th>\n",
       "    </tr>\n",
       "  </thead>\n",
       "  <tbody>\n",
       "    <tr>\n",
       "      <th>0</th>\n",
       "      <td>userId</td>\n",
       "      <td>-0.200237</td>\n",
       "      <td>0.000000e+00</td>\n",
       "    </tr>\n",
       "    <tr>\n",
       "      <th>1</th>\n",
       "      <td>tier</td>\n",
       "      <td>-0.068911</td>\n",
       "      <td>0.000000e+00</td>\n",
       "    </tr>\n",
       "    <tr>\n",
       "      <th>2</th>\n",
       "      <td>gender</td>\n",
       "      <td>-0.043706</td>\n",
       "      <td>1.655493e-189</td>\n",
       "    </tr>\n",
       "    <tr>\n",
       "      <th>7</th>\n",
       "      <td>num_of_hashtags_per_action</td>\n",
       "      <td>0.029814</td>\n",
       "      <td>3.358873e-89</td>\n",
       "    </tr>\n",
       "    <tr>\n",
       "      <th>8</th>\n",
       "      <td>emoji_count_per_action</td>\n",
       "      <td>0.056485</td>\n",
       "      <td>0.000000e+00</td>\n",
       "    </tr>\n",
       "    <tr>\n",
       "      <th>11</th>\n",
       "      <td>avgCompletion</td>\n",
       "      <td>0.084070</td>\n",
       "      <td>0.000000e+00</td>\n",
       "    </tr>\n",
       "    <tr>\n",
       "      <th>13</th>\n",
       "      <td>avgDuration</td>\n",
       "      <td>0.131900</td>\n",
       "      <td>0.000000e+00</td>\n",
       "    </tr>\n",
       "    <tr>\n",
       "      <th>9</th>\n",
       "      <td>punctuations_per_action</td>\n",
       "      <td>0.168081</td>\n",
       "      <td>0.000000e+00</td>\n",
       "    </tr>\n",
       "    <tr>\n",
       "      <th>20</th>\n",
       "      <td>slot1_trails_watched_per_day</td>\n",
       "      <td>0.184194</td>\n",
       "      <td>0.000000e+00</td>\n",
       "    </tr>\n",
       "    <tr>\n",
       "      <th>21</th>\n",
       "      <td>slot2_trails_watched_per_day</td>\n",
       "      <td>0.195375</td>\n",
       "      <td>0.000000e+00</td>\n",
       "    </tr>\n",
       "    <tr>\n",
       "      <th>16</th>\n",
       "      <td>content_views</td>\n",
       "      <td>0.211734</td>\n",
       "      <td>0.000000e+00</td>\n",
       "    </tr>\n",
       "    <tr>\n",
       "      <th>19</th>\n",
       "      <td>weekdays_trails_watched_per_day</td>\n",
       "      <td>0.213283</td>\n",
       "      <td>0.000000e+00</td>\n",
       "    </tr>\n",
       "    <tr>\n",
       "      <th>18</th>\n",
       "      <td>weekends_trails_watched_per_day</td>\n",
       "      <td>0.222981</td>\n",
       "      <td>0.000000e+00</td>\n",
       "    </tr>\n",
       "    <tr>\n",
       "      <th>22</th>\n",
       "      <td>slot3_trails_watched_per_day</td>\n",
       "      <td>0.229279</td>\n",
       "      <td>0.000000e+00</td>\n",
       "    </tr>\n",
       "    <tr>\n",
       "      <th>17</th>\n",
       "      <td>num_of_comments</td>\n",
       "      <td>0.239807</td>\n",
       "      <td>0.000000e+00</td>\n",
       "    </tr>\n",
       "    <tr>\n",
       "      <th>14</th>\n",
       "      <td>avgComments</td>\n",
       "      <td>0.239836</td>\n",
       "      <td>0.000000e+00</td>\n",
       "    </tr>\n",
       "    <tr>\n",
       "      <th>23</th>\n",
       "      <td>slot4_trails_watched_per_day</td>\n",
       "      <td>0.245267</td>\n",
       "      <td>0.000000e+00</td>\n",
       "    </tr>\n",
       "    <tr>\n",
       "      <th>12</th>\n",
       "      <td>avgTimeSpent</td>\n",
       "      <td>0.245882</td>\n",
       "      <td>0.000000e+00</td>\n",
       "    </tr>\n",
       "    <tr>\n",
       "      <th>6</th>\n",
       "      <td>max_repetitive_punc</td>\n",
       "      <td>0.304047</td>\n",
       "      <td>0.000000e+00</td>\n",
       "    </tr>\n",
       "    <tr>\n",
       "      <th>5</th>\n",
       "      <td>following_avg_age</td>\n",
       "      <td>0.307319</td>\n",
       "      <td>0.000000e+00</td>\n",
       "    </tr>\n",
       "    <tr>\n",
       "      <th>4</th>\n",
       "      <td>followers_avg_age</td>\n",
       "      <td>0.308425</td>\n",
       "      <td>0.000000e+00</td>\n",
       "    </tr>\n",
       "    <tr>\n",
       "      <th>3</th>\n",
       "      <td>following_rate</td>\n",
       "      <td>0.468700</td>\n",
       "      <td>0.000000e+00</td>\n",
       "    </tr>\n",
       "    <tr>\n",
       "      <th>10</th>\n",
       "      <td>number_of_words_per_action</td>\n",
       "      <td>0.680578</td>\n",
       "      <td>0.000000e+00</td>\n",
       "    </tr>\n",
       "    <tr>\n",
       "      <th>24</th>\n",
       "      <td>avgt2</td>\n",
       "      <td>0.691653</td>\n",
       "      <td>0.000000e+00</td>\n",
       "    </tr>\n",
       "    <tr>\n",
       "      <th>15</th>\n",
       "      <td>creations</td>\n",
       "      <td>0.763938</td>\n",
       "      <td>0.000000e+00</td>\n",
       "    </tr>\n",
       "    <tr>\n",
       "      <th>25</th>\n",
       "      <td>age_group</td>\n",
       "      <td>1.000000</td>\n",
       "      <td>0.000000e+00</td>\n",
       "    </tr>\n",
       "  </tbody>\n",
       "</table>\n",
       "</div>"
      ],
      "text/plain": [
       "                            feature  correlation  correlation_p_value\n",
       "0                            userId    -0.200237         0.000000e+00\n",
       "1                              tier    -0.068911         0.000000e+00\n",
       "2                            gender    -0.043706        1.655493e-189\n",
       "7        num_of_hashtags_per_action     0.029814         3.358873e-89\n",
       "8            emoji_count_per_action     0.056485         0.000000e+00\n",
       "11                    avgCompletion     0.084070         0.000000e+00\n",
       "13                      avgDuration     0.131900         0.000000e+00\n",
       "9           punctuations_per_action     0.168081         0.000000e+00\n",
       "20     slot1_trails_watched_per_day     0.184194         0.000000e+00\n",
       "21     slot2_trails_watched_per_day     0.195375         0.000000e+00\n",
       "16                    content_views     0.211734         0.000000e+00\n",
       "19  weekdays_trails_watched_per_day     0.213283         0.000000e+00\n",
       "18  weekends_trails_watched_per_day     0.222981         0.000000e+00\n",
       "22     slot3_trails_watched_per_day     0.229279         0.000000e+00\n",
       "17                  num_of_comments     0.239807         0.000000e+00\n",
       "14                      avgComments     0.239836         0.000000e+00\n",
       "23     slot4_trails_watched_per_day     0.245267         0.000000e+00\n",
       "12                     avgTimeSpent     0.245882         0.000000e+00\n",
       "6               max_repetitive_punc     0.304047         0.000000e+00\n",
       "5                 following_avg_age     0.307319         0.000000e+00\n",
       "4                 followers_avg_age     0.308425         0.000000e+00\n",
       "3                    following_rate     0.468700         0.000000e+00\n",
       "10       number_of_words_per_action     0.680578         0.000000e+00\n",
       "24                            avgt2     0.691653         0.000000e+00\n",
       "15                        creations     0.763938         0.000000e+00\n",
       "25                        age_group     1.000000         0.000000e+00"
      ]
     },
     "execution_count": 45,
     "metadata": {},
     "output_type": "execute_result"
    }
   ],
   "source": [
    "import scipy.stats \n",
    "\n",
    "corrs = []\n",
    "for col in df:\n",
    "    corr = scipy.stats.spearmanr(df['age_group'], df[col])\n",
    "    corrs.append({\n",
    "        'feature': col,\n",
    "        'correlation': corr[0],\n",
    "        'correlation_p_value': corr[1]\n",
    "    })\n",
    "    \n",
    "pd.DataFrame(corrs).sort_values('correlation')"
   ]
  },
  {
   "cell_type": "code",
   "execution_count": null,
   "id": "9120f13e",
   "metadata": {
    "papermill": {
     "duration": 0.144069,
     "end_time": "2022-05-08T11:39:05.430700",
     "exception": false,
     "start_time": "2022-05-08T11:39:05.286631",
     "status": "completed"
    },
    "tags": []
   },
   "outputs": [],
   "source": []
  },
  {
   "cell_type": "markdown",
   "id": "c40740ea",
   "metadata": {
    "papermill": {
     "duration": 0.14494,
     "end_time": "2022-05-08T11:39:05.719895",
     "exception": false,
     "start_time": "2022-05-08T11:39:05.574955",
     "status": "completed"
    },
    "tags": []
   },
   "source": [
    "## These are the main important for our case"
   ]
  },
  {
   "cell_type": "code",
   "execution_count": 46,
   "id": "d87802e3",
   "metadata": {
    "execution": {
     "iopub.execute_input": "2022-05-08T11:39:06.015643Z",
     "iopub.status.busy": "2022-05-08T11:39:06.015358Z",
     "iopub.status.idle": "2022-05-08T11:39:06.044412Z",
     "shell.execute_reply": "2022-05-08T11:39:06.043636Z"
    },
    "papermill": {
     "duration": 0.180471,
     "end_time": "2022-05-08T11:39:06.046517",
     "exception": false,
     "start_time": "2022-05-08T11:39:05.866046",
     "status": "completed"
    },
    "tags": []
   },
   "outputs": [
    {
     "data": {
      "text/html": [
       "<div>\n",
       "<style scoped>\n",
       "    .dataframe tbody tr th:only-of-type {\n",
       "        vertical-align: middle;\n",
       "    }\n",
       "\n",
       "    .dataframe tbody tr th {\n",
       "        vertical-align: top;\n",
       "    }\n",
       "\n",
       "    .dataframe thead th {\n",
       "        text-align: right;\n",
       "    }\n",
       "</style>\n",
       "<table border=\"1\" class=\"dataframe\">\n",
       "  <thead>\n",
       "    <tr style=\"text-align: right;\">\n",
       "      <th></th>\n",
       "      <th>creations</th>\n",
       "      <th>avgt2</th>\n",
       "      <th>number_of_words_per_action</th>\n",
       "    </tr>\n",
       "    <tr>\n",
       "      <th>age_group</th>\n",
       "      <th></th>\n",
       "      <th></th>\n",
       "      <th></th>\n",
       "    </tr>\n",
       "  </thead>\n",
       "  <tbody>\n",
       "    <tr>\n",
       "      <th>1</th>\n",
       "      <td>0.002359</td>\n",
       "      <td>32.943244</td>\n",
       "      <td>0.035814</td>\n",
       "    </tr>\n",
       "    <tr>\n",
       "      <th>2</th>\n",
       "      <td>0.018968</td>\n",
       "      <td>200.488695</td>\n",
       "      <td>0.335442</td>\n",
       "    </tr>\n",
       "    <tr>\n",
       "      <th>3</th>\n",
       "      <td>0.021863</td>\n",
       "      <td>206.580356</td>\n",
       "      <td>0.243284</td>\n",
       "    </tr>\n",
       "    <tr>\n",
       "      <th>4</th>\n",
       "      <td>0.028260</td>\n",
       "      <td>196.934565</td>\n",
       "      <td>0.225336</td>\n",
       "    </tr>\n",
       "  </tbody>\n",
       "</table>\n",
       "</div>"
      ],
      "text/plain": [
       "           creations       avgt2  number_of_words_per_action\n",
       "age_group                                                   \n",
       "1           0.002359   32.943244                    0.035814\n",
       "2           0.018968  200.488695                    0.335442\n",
       "3           0.021863  206.580356                    0.243284\n",
       "4           0.028260  196.934565                    0.225336"
      ]
     },
     "execution_count": 46,
     "metadata": {},
     "output_type": "execute_result"
    }
   ],
   "source": [
    "df.groupby('age_group')[['creations', 'avgt2', 'number_of_words_per_action']].agg('mean')"
   ]
  },
  {
   "cell_type": "code",
   "execution_count": 47,
   "id": "dbb6baf6",
   "metadata": {
    "execution": {
     "iopub.execute_input": "2022-05-08T11:39:06.341382Z",
     "iopub.status.busy": "2022-05-08T11:39:06.340875Z",
     "iopub.status.idle": "2022-05-08T11:39:06.345276Z",
     "shell.execute_reply": "2022-05-08T11:39:06.344457Z"
    },
    "papermill": {
     "duration": 0.153599,
     "end_time": "2022-05-08T11:39:06.347123",
     "exception": false,
     "start_time": "2022-05-08T11:39:06.193524",
     "status": "completed"
    },
    "tags": []
   },
   "outputs": [],
   "source": [
    "corr_columns = ['creations', 'avgt2', 'number_of_words_per_action']"
   ]
  },
  {
   "cell_type": "code",
   "execution_count": 48,
   "id": "579bb3c5",
   "metadata": {
    "execution": {
     "iopub.execute_input": "2022-05-08T11:39:06.640584Z",
     "iopub.status.busy": "2022-05-08T11:39:06.639672Z",
     "iopub.status.idle": "2022-05-08T11:39:06.647319Z",
     "shell.execute_reply": "2022-05-08T11:39:06.646769Z"
    },
    "papermill": {
     "duration": 0.15678,
     "end_time": "2022-05-08T11:39:06.649193",
     "exception": false,
     "start_time": "2022-05-08T11:39:06.492413",
     "status": "completed"
    },
    "tags": []
   },
   "outputs": [],
   "source": [
    "X = df[corr_columns]\n",
    "y = df['age_group']"
   ]
  },
  {
   "cell_type": "code",
   "execution_count": 49,
   "id": "a64c42aa",
   "metadata": {
    "execution": {
     "iopub.execute_input": "2022-05-08T11:39:06.944605Z",
     "iopub.status.busy": "2022-05-08T11:39:06.944205Z",
     "iopub.status.idle": "2022-05-08T11:39:07.405987Z",
     "shell.execute_reply": "2022-05-08T11:39:07.405105Z"
    },
    "papermill": {
     "duration": 0.613776,
     "end_time": "2022-05-08T11:39:07.408271",
     "exception": false,
     "start_time": "2022-05-08T11:39:06.794495",
     "status": "completed"
    },
    "tags": []
   },
   "outputs": [
    {
     "data": {
      "image/png": "[encoded data removed]",
      "text/plain": [
       "<Figure size 432x288 with 2 Axes>"
      ]
     },
     "metadata": {
      "needs_background": "light"
     },
     "output_type": "display_data"
    }
   ],
   "source": [
    "sns.heatmap(X.corr(),annot=True);"
   ]
  },
  {
   "cell_type": "code",
   "execution_count": 50,
   "id": "c5e0216a",
   "metadata": {
    "execution": {
     "iopub.execute_input": "2022-05-08T11:39:07.704443Z",
     "iopub.status.busy": "2022-05-08T11:39:07.704032Z",
     "iopub.status.idle": "2022-05-08T11:39:07.722170Z",
     "shell.execute_reply": "2022-05-08T11:39:07.721345Z"
    },
    "papermill": {
     "duration": 0.16893,
     "end_time": "2022-05-08T11:39:07.724439",
     "exception": false,
     "start_time": "2022-05-08T11:39:07.555509",
     "status": "completed"
    },
    "tags": []
   },
   "outputs": [],
   "source": [
    "rfm_c_log = np.log(X['creations']+0.1)\n",
    "rfm_n_log = np.log(X['number_of_words_per_action']+0.1)\n",
    "\n",
    "X = pd.DataFrame({'creations' : rfm_c_log, 'avgt2' : X['avgt2'], 'number_of_words_per_action' : rfm_n_log})"
   ]
  },
  {
   "cell_type": "code",
   "execution_count": 51,
   "id": "8b54813e",
   "metadata": {
    "execution": {
     "iopub.execute_input": "2022-05-08T11:39:08.023660Z",
     "iopub.status.busy": "2022-05-08T11:39:08.023376Z",
     "iopub.status.idle": "2022-05-08T11:39:08.328643Z",
     "shell.execute_reply": "2022-05-08T11:39:08.327566Z"
    },
    "papermill": {
     "duration": 0.459679,
     "end_time": "2022-05-08T11:39:08.331138",
     "exception": false,
     "start_time": "2022-05-08T11:39:07.871459",
     "status": "completed"
    },
    "tags": []
   },
   "outputs": [
    {
     "data": {
      "image/png": "[encoded data removed]",
      "text/plain": [
       "<Figure size 432x288 with 2 Axes>"
      ]
     },
     "metadata": {
      "needs_background": "light"
     },
     "output_type": "display_data"
    }
   ],
   "source": [
    "sns.heatmap(X.corr(),annot=True);"
   ]
  },
  {
   "cell_type": "markdown",
   "id": "446220c8",
   "metadata": {
    "papermill": {
     "duration": 0.147401,
     "end_time": "2022-05-08T11:39:08.625796",
     "exception": false,
     "start_time": "2022-05-08T11:39:08.478395",
     "status": "completed"
    },
    "tags": []
   },
   "source": [
    "# Apply the ML Model"
   ]
  },
  {
   "cell_type": "markdown",
   "id": "aea62b95",
   "metadata": {
    "papermill": {
     "duration": 0.150478,
     "end_time": "2022-05-08T11:39:08.923608",
     "exception": false,
     "start_time": "2022-05-08T11:39:08.773130",
     "status": "completed"
    },
    "tags": []
   },
   "source": [
    "### #########\n",
    "\n",
    "\n",
    "# Train Test"
   ]
  },
  {
   "cell_type": "code",
   "execution_count": 52,
   "id": "db5f3b44",
   "metadata": {
    "execution": {
     "iopub.execute_input": "2022-05-08T11:39:09.222008Z",
     "iopub.status.busy": "2022-05-08T11:39:09.221736Z",
     "iopub.status.idle": "2022-05-08T11:39:09.451292Z",
     "shell.execute_reply": "2022-05-08T11:39:09.450502Z"
    },
    "papermill": {
     "duration": 0.379909,
     "end_time": "2022-05-08T11:39:09.453664",
     "exception": false,
     "start_time": "2022-05-08T11:39:09.073755",
     "status": "completed"
    },
    "tags": []
   },
   "outputs": [],
   "source": [
    "from sklearn.model_selection import train_test_split\n",
    "from sklearn.metrics import r2_score, mean_squared_error\n",
    "\n",
    "X_train, X_test, y_train, y_test = train_test_split(X,y, test_size=0.20, random_state=60)\n"
   ]
  },
  {
   "cell_type": "markdown",
   "id": "f8662aed",
   "metadata": {
    "papermill": {
     "duration": 0.14806,
     "end_time": "2022-05-08T11:39:09.749082",
     "exception": false,
     "start_time": "2022-05-08T11:39:09.601022",
     "status": "completed"
    },
    "tags": []
   },
   "source": [
    "# Decision Tree Classifier"
   ]
  },
  {
   "cell_type": "code",
   "execution_count": 53,
   "id": "c3eb71cc",
   "metadata": {
    "execution": {
     "iopub.execute_input": "2022-05-08T11:39:10.046085Z",
     "iopub.status.busy": "2022-05-08T11:39:10.045804Z",
     "iopub.status.idle": "2022-05-08T11:39:11.400373Z",
     "shell.execute_reply": "2022-05-08T11:39:11.399434Z"
    },
    "papermill": {
     "duration": 1.505437,
     "end_time": "2022-05-08T11:39:11.402425",
     "exception": false,
     "start_time": "2022-05-08T11:39:09.896988",
     "status": "completed"
    },
    "tags": []
   },
   "outputs": [
    {
     "data": {
      "text/plain": [
       "DecisionTreeClassifier()"
      ]
     },
     "execution_count": 53,
     "metadata": {},
     "output_type": "execute_result"
    }
   ],
   "source": [
    "from sklearn.tree import DecisionTreeClassifier\n",
    "model = DecisionTreeClassifier()\n",
    "\n",
    "model.fit(X_train, y_train)"
   ]
  },
  {
   "cell_type": "code",
   "execution_count": 54,
   "id": "36e613d0",
   "metadata": {
    "execution": {
     "iopub.execute_input": "2022-05-08T11:39:11.702739Z",
     "iopub.status.busy": "2022-05-08T11:39:11.702277Z",
     "iopub.status.idle": "2022-05-08T11:39:11.742548Z",
     "shell.execute_reply": "2022-05-08T11:39:11.741610Z"
    },
    "papermill": {
     "duration": 0.192824,
     "end_time": "2022-05-08T11:39:11.744740",
     "exception": false,
     "start_time": "2022-05-08T11:39:11.551916",
     "status": "completed"
    },
    "tags": []
   },
   "outputs": [
    {
     "data": {
      "text/plain": [
       "0.7181508710067308"
      ]
     },
     "execution_count": 54,
     "metadata": {},
     "output_type": "execute_result"
    }
   ],
   "source": [
    "model.score(X_test, y_test)"
   ]
  },
  {
   "cell_type": "code",
   "execution_count": 55,
   "id": "e12f5f5e",
   "metadata": {
    "execution": {
     "iopub.execute_input": "2022-05-08T11:39:12.047630Z",
     "iopub.status.busy": "2022-05-08T11:39:12.047369Z",
     "iopub.status.idle": "2022-05-08T11:39:12.079132Z",
     "shell.execute_reply": "2022-05-08T11:39:12.078324Z"
    },
    "papermill": {
     "duration": 0.18442,
     "end_time": "2022-05-08T11:39:12.081066",
     "exception": false,
     "start_time": "2022-05-08T11:39:11.896646",
     "status": "completed"
    },
    "tags": []
   },
   "outputs": [
    {
     "data": {
      "text/plain": [
       "array([2, 1, 1, ..., 3, 1, 1])"
      ]
     },
     "execution_count": 55,
     "metadata": {},
     "output_type": "execute_result"
    }
   ],
   "source": [
    "y_pred = model.predict(X_test)\n",
    "y_pred"
   ]
  },
  {
   "cell_type": "code",
   "execution_count": 56,
   "id": "995d32f2",
   "metadata": {
    "execution": {
     "iopub.execute_input": "2022-05-08T11:39:12.383899Z",
     "iopub.status.busy": "2022-05-08T11:39:12.383620Z",
     "iopub.status.idle": "2022-05-08T11:39:12.389903Z",
     "shell.execute_reply": "2022-05-08T11:39:12.389115Z"
    },
    "papermill": {
     "duration": 0.160757,
     "end_time": "2022-05-08T11:39:12.391782",
     "exception": false,
     "start_time": "2022-05-08T11:39:12.231025",
     "status": "completed"
    },
    "tags": []
   },
   "outputs": [
    {
     "data": {
      "text/plain": [
       "array([1, 4, 3, 2])"
      ]
     },
     "execution_count": 56,
     "metadata": {},
     "output_type": "execute_result"
    }
   ],
   "source": [
    "y_test.unique()"
   ]
  },
  {
   "cell_type": "code",
   "execution_count": 57,
   "id": "4c7db027",
   "metadata": {
    "execution": {
     "iopub.execute_input": "2022-05-08T11:39:12.694534Z",
     "iopub.status.busy": "2022-05-08T11:39:12.694263Z",
     "iopub.status.idle": "2022-05-08T11:39:13.104061Z",
     "shell.execute_reply": "2022-05-08T11:39:13.103124Z"
    },
    "papermill": {
     "duration": 0.564572,
     "end_time": "2022-05-08T11:39:13.106091",
     "exception": false,
     "start_time": "2022-05-08T11:39:12.541519",
     "status": "completed"
    },
    "tags": []
   },
   "outputs": [
    {
     "data": {
      "text/plain": [
       "Text(30.5, 0.5, 'Truth')"
      ]
     },
     "execution_count": 57,
     "metadata": {},
     "output_type": "execute_result"
    },
    {
     "data": {
      "image/png": "[encoded data removed]",
      "text/plain": [
       "<Figure size 432x288 with 2 Axes>"
      ]
     },
     "metadata": {
      "needs_background": "light"
     },
     "output_type": "display_data"
    }
   ],
   "source": [
    "from sklearn.metrics import confusion_matrix\n",
    "\n",
    "cm = confusion_matrix(y_test , y_pred )\n",
    "\n",
    "\n",
    "import seaborn as sn\n",
    "sn.heatmap(cm , annot = True , fmt = 'f')\n",
    "plt.xlabel('Predicted')\n",
    "plt.ylabel('Truth')"
   ]
  },
  {
   "cell_type": "code",
   "execution_count": 58,
   "id": "4678776c",
   "metadata": {
    "execution": {
     "iopub.execute_input": "2022-05-08T11:39:13.411070Z",
     "iopub.status.busy": "2022-05-08T11:39:13.410484Z",
     "iopub.status.idle": "2022-05-08T11:39:13.570060Z",
     "shell.execute_reply": "2022-05-08T11:39:13.569427Z"
    },
    "papermill": {
     "duration": 0.31398,
     "end_time": "2022-05-08T11:39:13.571959",
     "exception": false,
     "start_time": "2022-05-08T11:39:13.257979",
     "status": "completed"
    },
    "tags": []
   },
   "outputs": [
    {
     "name": "stdout",
     "output_type": "stream",
     "text": [
      "              precision    recall  f1-score   support\n",
      "\n",
      "           1       0.90      0.90      0.90     57642\n",
      "           2       0.45      0.45      0.45     10452\n",
      "           3       0.38      0.37      0.38     10994\n",
      "           4       0.36      0.36      0.36     11095\n",
      "\n",
      "    accuracy                           0.72     90183\n",
      "   macro avg       0.52      0.52      0.52     90183\n",
      "weighted avg       0.72      0.72      0.72     90183\n",
      "\n"
     ]
    }
   ],
   "source": [
    "from sklearn.metrics import classification_report\n",
    "\n",
    "print(classification_report(y_test , y_pred))"
   ]
  },
  {
   "cell_type": "code",
   "execution_count": null,
   "id": "672f7b92",
   "metadata": {
    "papermill": {
     "duration": 0.151524,
     "end_time": "2022-05-08T11:39:13.878396",
     "exception": false,
     "start_time": "2022-05-08T11:39:13.726872",
     "status": "completed"
    },
    "tags": []
   },
   "outputs": [],
   "source": []
  },
  {
   "cell_type": "markdown",
   "id": "eb8b298d",
   "metadata": {
    "papermill": {
     "duration": 0.150301,
     "end_time": "2022-05-08T11:39:14.183563",
     "exception": false,
     "start_time": "2022-05-08T11:39:14.033262",
     "status": "completed"
    },
    "tags": []
   },
   "source": [
    "\n",
    "## K Fold Cross Validation"
   ]
  },
  {
   "cell_type": "code",
   "execution_count": 59,
   "id": "ef86e3ca",
   "metadata": {
    "execution": {
     "iopub.execute_input": "2022-05-08T11:39:14.486447Z",
     "iopub.status.busy": "2022-05-08T11:39:14.485916Z",
     "iopub.status.idle": "2022-05-08T11:39:15.571724Z",
     "shell.execute_reply": "2022-05-08T11:39:15.570870Z"
    },
    "papermill": {
     "duration": 1.239932,
     "end_time": "2022-05-08T11:39:15.574148",
     "exception": false,
     "start_time": "2022-05-08T11:39:14.334216",
     "status": "completed"
    },
    "tags": []
   },
   "outputs": [],
   "source": [
    "from sklearn.model_selection import cross_val_predict , cross_val_score\n",
    "pred = cross_val_predict(model , X_test , y_test)\n"
   ]
  },
  {
   "cell_type": "code",
   "execution_count": 60,
   "id": "675005e4",
   "metadata": {
    "execution": {
     "iopub.execute_input": "2022-05-08T11:39:15.881220Z",
     "iopub.status.busy": "2022-05-08T11:39:15.880946Z",
     "iopub.status.idle": "2022-05-08T11:39:15.886307Z",
     "shell.execute_reply": "2022-05-08T11:39:15.885733Z"
    },
    "papermill": {
     "duration": 0.161104,
     "end_time": "2022-05-08T11:39:15.888519",
     "exception": false,
     "start_time": "2022-05-08T11:39:15.727415",
     "status": "completed"
    },
    "tags": []
   },
   "outputs": [
    {
     "data": {
      "text/plain": [
       "array([2, 1, 1, ..., 4, 1, 1])"
      ]
     },
     "execution_count": 60,
     "metadata": {},
     "output_type": "execute_result"
    }
   ],
   "source": [
    "pred"
   ]
  },
  {
   "cell_type": "code",
   "execution_count": 61,
   "id": "625d31a6",
   "metadata": {
    "execution": {
     "iopub.execute_input": "2022-05-08T11:39:16.195956Z",
     "iopub.status.busy": "2022-05-08T11:39:16.195470Z",
     "iopub.status.idle": "2022-05-08T11:39:18.699624Z",
     "shell.execute_reply": "2022-05-08T11:39:18.698862Z"
    },
    "papermill": {
     "duration": 2.659229,
     "end_time": "2022-05-08T11:39:18.701554",
     "exception": false,
     "start_time": "2022-05-08T11:39:16.042325",
     "status": "completed"
    },
    "tags": []
   },
   "outputs": [
    {
     "data": {
      "text/plain": [
       "array([0.71543458, 0.71587535, 0.71584209])"
      ]
     },
     "execution_count": 61,
     "metadata": {},
     "output_type": "execute_result"
    }
   ],
   "source": [
    "from sklearn.model_selection import cross_val_score\n",
    "accuracy = cross_val_score(model , X_train , y_train , scoring = 'accuracy' , cv = 3)\n",
    "accuracy"
   ]
  },
  {
   "cell_type": "code",
   "execution_count": 62,
   "id": "4e012b35",
   "metadata": {
    "execution": {
     "iopub.execute_input": "2022-05-08T11:39:19.014665Z",
     "iopub.status.busy": "2022-05-08T11:39:19.014313Z",
     "iopub.status.idle": "2022-05-08T11:39:19.021349Z",
     "shell.execute_reply": "2022-05-08T11:39:19.020232Z"
    },
    "papermill": {
     "duration": 0.16864,
     "end_time": "2022-05-08T11:39:19.024337",
     "exception": false,
     "start_time": "2022-05-08T11:39:18.855697",
     "status": "completed"
    },
    "tags": []
   },
   "outputs": [
    {
     "data": {
      "text/plain": [
       "0.7157173390550801"
      ]
     },
     "execution_count": 62,
     "metadata": {},
     "output_type": "execute_result"
    }
   ],
   "source": [
    "accuracy.mean()"
   ]
  },
  {
   "cell_type": "code",
   "execution_count": 63,
   "id": "9af9ea75",
   "metadata": {
    "execution": {
     "iopub.execute_input": "2022-05-08T11:39:19.391087Z",
     "iopub.status.busy": "2022-05-08T11:39:19.390741Z",
     "iopub.status.idle": "2022-05-08T11:39:19.805314Z",
     "shell.execute_reply": "2022-05-08T11:39:19.804735Z"
    },
    "papermill": {
     "duration": 0.580146,
     "end_time": "2022-05-08T11:39:19.807553",
     "exception": false,
     "start_time": "2022-05-08T11:39:19.227407",
     "status": "completed"
    },
    "tags": []
   },
   "outputs": [
    {
     "data": {
      "text/plain": [
       "Text(30.5, 0.5, 'Truth')"
      ]
     },
     "execution_count": 63,
     "metadata": {},
     "output_type": "execute_result"
    },
    {
     "data": {
      "image/png": "[encoded data removed]",
      "text/plain": [
       "<Figure size 432x288 with 2 Axes>"
      ]
     },
     "metadata": {
      "needs_background": "light"
     },
     "output_type": "display_data"
    }
   ],
   "source": [
    "from sklearn.metrics import confusion_matrix\n",
    "\n",
    "cm = confusion_matrix(y_test , pred , normalize= 'true')\n",
    "\n",
    "import seaborn as sn\n",
    "sn.heatmap(cm , annot = True)\n",
    "plt.xlabel('Predicted')\n",
    "plt.ylabel('Truth')"
   ]
  },
  {
   "cell_type": "code",
   "execution_count": 64,
   "id": "29fdd47a",
   "metadata": {
    "execution": {
     "iopub.execute_input": "2022-05-08T11:39:20.121864Z",
     "iopub.status.busy": "2022-05-08T11:39:20.121609Z",
     "iopub.status.idle": "2022-05-08T11:39:20.286737Z",
     "shell.execute_reply": "2022-05-08T11:39:20.285950Z"
    },
    "papermill": {
     "duration": 0.321799,
     "end_time": "2022-05-08T11:39:20.288726",
     "exception": false,
     "start_time": "2022-05-08T11:39:19.966927",
     "status": "completed"
    },
    "tags": []
   },
   "outputs": [
    {
     "name": "stdout",
     "output_type": "stream",
     "text": [
      "              precision    recall  f1-score   support\n",
      "\n",
      "           1       0.90      0.90      0.90     57642\n",
      "           2       0.43      0.43      0.43     10452\n",
      "           3       0.37      0.36      0.37     10994\n",
      "           4       0.36      0.36      0.36     11095\n",
      "\n",
      "    accuracy                           0.71     90183\n",
      "   macro avg       0.51      0.51      0.51     90183\n",
      "weighted avg       0.71      0.71      0.71     90183\n",
      "\n"
     ]
    }
   ],
   "source": [
    "from sklearn.metrics import classification_report\n",
    "\n",
    "print(classification_report(y_test , pred))"
   ]
  },
  {
   "cell_type": "code",
   "execution_count": null,
   "id": "d0a2e74c",
   "metadata": {
    "papermill": {
     "duration": 0.153023,
     "end_time": "2022-05-08T11:39:20.599024",
     "exception": false,
     "start_time": "2022-05-08T11:39:20.446001",
     "status": "completed"
    },
    "tags": []
   },
   "outputs": [],
   "source": []
  },
  {
   "cell_type": "markdown",
   "id": "8a167e2c",
   "metadata": {
    "papermill": {
     "duration": 0.152709,
     "end_time": "2022-05-08T11:39:20.906325",
     "exception": false,
     "start_time": "2022-05-08T11:39:20.753616",
     "status": "completed"
    },
    "tags": []
   },
   "source": [
    "# Train All data"
   ]
  },
  {
   "cell_type": "code",
   "execution_count": 65,
   "id": "60bf9881",
   "metadata": {
    "execution": {
     "iopub.execute_input": "2022-05-08T11:39:21.219319Z",
     "iopub.status.busy": "2022-05-08T11:39:21.218517Z",
     "iopub.status.idle": "2022-05-08T11:39:22.892825Z",
     "shell.execute_reply": "2022-05-08T11:39:22.891873Z"
    },
    "papermill": {
     "duration": 1.833434,
     "end_time": "2022-05-08T11:39:22.895485",
     "exception": false,
     "start_time": "2022-05-08T11:39:21.062051",
     "status": "completed"
    },
    "tags": []
   },
   "outputs": [],
   "source": [
    "model.fit(X, y)\n",
    "\n",
    "result = model.predict(X)"
   ]
  },
  {
   "cell_type": "code",
   "execution_count": 66,
   "id": "acddf20d",
   "metadata": {
    "execution": {
     "iopub.execute_input": "2022-05-08T11:39:23.212067Z",
     "iopub.status.busy": "2022-05-08T11:39:23.211780Z",
     "iopub.status.idle": "2022-05-08T11:39:23.235402Z",
     "shell.execute_reply": "2022-05-08T11:39:23.234756Z"
    },
    "papermill": {
     "duration": 0.186575,
     "end_time": "2022-05-08T11:39:23.237966",
     "exception": false,
     "start_time": "2022-05-08T11:39:23.051391",
     "status": "completed"
    },
    "tags": []
   },
   "outputs": [],
   "source": [
    "import pickle\n",
    "\n",
    "### To Save the file\n",
    "\n",
    "with open('./Model.pickle' , 'wb') as f: # Write\n",
    "    pickle.dump(model , f)"
   ]
  },
  {
   "cell_type": "code",
   "execution_count": 67,
   "id": "16d68804",
   "metadata": {
    "execution": {
     "iopub.execute_input": "2022-05-08T11:39:23.553525Z",
     "iopub.status.busy": "2022-05-08T11:39:23.552661Z",
     "iopub.status.idle": "2022-05-08T11:39:23.568524Z",
     "shell.execute_reply": "2022-05-08T11:39:23.567689Z"
    },
    "papermill": {
     "duration": 0.174311,
     "end_time": "2022-05-08T11:39:23.570808",
     "exception": false,
     "start_time": "2022-05-08T11:39:23.396497",
     "status": "completed"
    },
    "tags": []
   },
   "outputs": [],
   "source": [
    "### To Open the file    \n",
    "with open('./Model.pickle' , 'rb') as f: # Read\n",
    "    trell_model = pickle.load(f)"
   ]
  },
  {
   "cell_type": "markdown",
   "id": "80dd47e2",
   "metadata": {
    "papermill": {
     "duration": 0.154066,
     "end_time": "2022-05-08T11:39:23.878641",
     "exception": false,
     "start_time": "2022-05-08T11:39:23.724575",
     "status": "completed"
    },
    "tags": []
   },
   "source": [
    "## Test the model on the test dataset"
   ]
  },
  {
   "cell_type": "code",
   "execution_count": 68,
   "id": "d91ddc1a",
   "metadata": {
    "execution": {
     "iopub.execute_input": "2022-05-08T11:39:24.192313Z",
     "iopub.status.busy": "2022-05-08T11:39:24.191899Z",
     "iopub.status.idle": "2022-05-08T11:39:24.421474Z",
     "shell.execute_reply": "2022-05-08T11:39:24.420523Z"
    },
    "papermill": {
     "duration": 0.389552,
     "end_time": "2022-05-08T11:39:24.423979",
     "exception": false,
     "start_time": "2022-05-08T11:39:24.034427",
     "status": "completed"
    },
    "tags": []
   },
   "outputs": [],
   "source": [
    "test_df = pd.read_csv('../input/trell-social-media-usage-data/test_age_dataset.csv')"
   ]
  },
  {
   "cell_type": "code",
   "execution_count": 69,
   "id": "e72251e8",
   "metadata": {
    "execution": {
     "iopub.execute_input": "2022-05-08T11:39:24.732844Z",
     "iopub.status.busy": "2022-05-08T11:39:24.732050Z",
     "iopub.status.idle": "2022-05-08T11:39:24.739955Z",
     "shell.execute_reply": "2022-05-08T11:39:24.738897Z"
    },
    "papermill": {
     "duration": 0.16439,
     "end_time": "2022-05-08T11:39:24.741914",
     "exception": false,
     "start_time": "2022-05-08T11:39:24.577524",
     "status": "completed"
    },
    "tags": []
   },
   "outputs": [],
   "source": [
    "test_df = test_df.drop('Unnamed: 0' , axis = 1)"
   ]
  },
  {
   "cell_type": "code",
   "execution_count": 70,
   "id": "cfa81c3a",
   "metadata": {
    "execution": {
     "iopub.execute_input": "2022-05-08T11:39:25.054798Z",
     "iopub.status.busy": "2022-05-08T11:39:25.054538Z",
     "iopub.status.idle": "2022-05-08T11:39:25.059791Z",
     "shell.execute_reply": "2022-05-08T11:39:25.059098Z"
    },
    "papermill": {
     "duration": 0.164506,
     "end_time": "2022-05-08T11:39:25.061522",
     "exception": false,
     "start_time": "2022-05-08T11:39:24.897016",
     "status": "completed"
    },
    "tags": []
   },
   "outputs": [],
   "source": [
    "test_df = test_df[corr_columns] "
   ]
  },
  {
   "cell_type": "code",
   "execution_count": 71,
   "id": "3e5072a3",
   "metadata": {
    "execution": {
     "iopub.execute_input": "2022-05-08T11:39:25.371748Z",
     "iopub.status.busy": "2022-05-08T11:39:25.371244Z",
     "iopub.status.idle": "2022-05-08T11:39:25.379445Z",
     "shell.execute_reply": "2022-05-08T11:39:25.378739Z"
    },
    "papermill": {
     "duration": 0.164381,
     "end_time": "2022-05-08T11:39:25.381395",
     "exception": false,
     "start_time": "2022-05-08T11:39:25.217014",
     "status": "completed"
    },
    "tags": []
   },
   "outputs": [],
   "source": [
    "predict = trell_model.predict(test_df)"
   ]
  },
  {
   "cell_type": "code",
   "execution_count": 72,
   "id": "467be08f",
   "metadata": {
    "execution": {
     "iopub.execute_input": "2022-05-08T11:39:25.688733Z",
     "iopub.status.busy": "2022-05-08T11:39:25.688477Z",
     "iopub.status.idle": "2022-05-08T11:39:25.692826Z",
     "shell.execute_reply": "2022-05-08T11:39:25.691897Z"
    },
    "papermill": {
     "duration": 0.160603,
     "end_time": "2022-05-08T11:39:25.694885",
     "exception": false,
     "start_time": "2022-05-08T11:39:25.534282",
     "status": "completed"
    },
    "tags": []
   },
   "outputs": [],
   "source": [
    "predict_df = pd.DataFrame(predict, columns = ['Prediction'])\n"
   ]
  },
  {
   "cell_type": "code",
   "execution_count": 73,
   "id": "cfc94bfe",
   "metadata": {
    "execution": {
     "iopub.execute_input": "2022-05-08T11:39:26.024886Z",
     "iopub.status.busy": "2022-05-08T11:39:26.024606Z",
     "iopub.status.idle": "2022-05-08T11:39:26.033751Z",
     "shell.execute_reply": "2022-05-08T11:39:26.033043Z"
    },
    "papermill": {
     "duration": 0.184139,
     "end_time": "2022-05-08T11:39:26.035612",
     "exception": false,
     "start_time": "2022-05-08T11:39:25.851473",
     "status": "completed"
    },
    "tags": []
   },
   "outputs": [
    {
     "data": {
      "text/plain": [
       "Prediction\n",
       "4             54320\n",
       "dtype: int64"
      ]
     },
     "execution_count": 73,
     "metadata": {},
     "output_type": "execute_result"
    }
   ],
   "source": [
    "predict_df.value_counts()"
   ]
  },
  {
   "cell_type": "markdown",
   "id": "a5074243",
   "metadata": {
    "papermill": {
     "duration": 0.155822,
     "end_time": "2022-05-08T11:39:26.345306",
     "exception": false,
     "start_time": "2022-05-08T11:39:26.189484",
     "status": "completed"
    },
    "tags": []
   },
   "source": [
    "# Compare the accuracy with the sample csv"
   ]
  },
  {
   "cell_type": "code",
   "execution_count": 74,
   "id": "4cf3f0e3",
   "metadata": {
    "execution": {
     "iopub.execute_input": "2022-05-08T11:39:26.653514Z",
     "iopub.status.busy": "2022-05-08T11:39:26.652985Z",
     "iopub.status.idle": "2022-05-08T11:39:26.669785Z",
     "shell.execute_reply": "2022-05-08T11:39:26.669089Z"
    },
    "papermill": {
     "duration": 0.173752,
     "end_time": "2022-05-08T11:39:26.671976",
     "exception": false,
     "start_time": "2022-05-08T11:39:26.498224",
     "status": "completed"
    },
    "tags": []
   },
   "outputs": [],
   "source": [
    "sample_y = pd.read_csv('../input/trell-social-media-usage-data/sample_submission.csv')"
   ]
  },
  {
   "cell_type": "code",
   "execution_count": 75,
   "id": "3344e90a",
   "metadata": {
    "execution": {
     "iopub.execute_input": "2022-05-08T11:39:26.988229Z",
     "iopub.status.busy": "2022-05-08T11:39:26.987511Z",
     "iopub.status.idle": "2022-05-08T11:39:26.997420Z",
     "shell.execute_reply": "2022-05-08T11:39:26.996866Z"
    },
    "papermill": {
     "duration": 0.169192,
     "end_time": "2022-05-08T11:39:26.999531",
     "exception": false,
     "start_time": "2022-05-08T11:39:26.830339",
     "status": "completed"
    },
    "tags": []
   },
   "outputs": [
    {
     "data": {
      "text/plain": [
       "prediction\n",
       "1             54320\n",
       "dtype: int64"
      ]
     },
     "execution_count": 75,
     "metadata": {},
     "output_type": "execute_result"
    }
   ],
   "source": [
    "sample_y.value_counts()"
   ]
  },
  {
   "cell_type": "markdown",
   "id": "c7c92c64",
   "metadata": {
    "papermill": {
     "duration": 0.154144,
     "end_time": "2022-05-08T11:39:27.311833",
     "exception": false,
     "start_time": "2022-05-08T11:39:27.157689",
     "status": "completed"
    },
    "tags": []
   },
   "source": [
    "# sample_submission is misleading all results are = 1 which is 100% can not be a measurement if the model acts good "
   ]
  },
  {
   "cell_type": "markdown",
   "id": "e838258f",
   "metadata": {
    "papermill": {
     "duration": 0.153831,
     "end_time": "2022-05-08T11:39:27.619434",
     "exception": false,
     "start_time": "2022-05-08T11:39:27.465603",
     "status": "completed"
    },
    "tags": []
   },
   "source": [
    "# ###############\n"
   ]
  },
  {
   "cell_type": "markdown",
   "id": "57668dc7",
   "metadata": {
    "papermill": {
     "duration": 0.154015,
     "end_time": "2022-05-08T11:39:27.928442",
     "exception": false,
     "start_time": "2022-05-08T11:39:27.774427",
     "status": "completed"
    },
    "tags": []
   },
   "source": [
    "### Understanding the requirments are important but what is more important is how to make the best out of the data\n",
    "\n",
    "\n",
    "#### Maniplulating data, understanding the relations among the features, remove redundants and outliers and apply preprocessing methods are all very important to improve the final model accuracy"
   ]
  },
  {
   "cell_type": "markdown",
   "id": "bcaadbb9",
   "metadata": {
    "papermill": {
     "duration": 0.15433,
     "end_time": "2022-05-08T11:39:28.238332",
     "exception": false,
     "start_time": "2022-05-08T11:39:28.084002",
     "status": "completed"
    },
    "tags": []
   },
   "source": [
    "<a href=\"https://ibb.co/thpDR4h\"><img src=\"https://i.ibb.co/0nyh5Q6/Screen-Shot-2021-11-23-at-10-25-27.png\" alt=\"Screen-Shot-2021-11-09-at-19-19-03\" border=\"0\"></a>"
   ]
  },
  {
   "cell_type": "markdown",
   "id": "cc9dff2c",
   "metadata": {
    "papermill": {
     "duration": 0.154588,
     "end_time": "2022-05-08T11:39:28.547745",
     "exception": false,
     "start_time": "2022-05-08T11:39:28.393157",
     "status": "completed"
    },
    "tags": []
   },
   "source": [
    "<a href=\"https://ibb.co/thpDR4h\"><img src=\"https://i.ibb.co/2MNvMtQ/Screen-Shot-2021-11-23-at-10-36-26.png\" alt=\"Screen-Shot-2021-11-09-at-19-19-03\" border=\"0\"></a>"
   ]
  },
  {
   "cell_type": "markdown",
   "id": "edd50a22",
   "metadata": {
    "papermill": {
     "duration": 0.154623,
     "end_time": "2022-05-08T11:39:28.857157",
     "exception": false,
     "start_time": "2022-05-08T11:39:28.702534",
     "status": "completed"
    },
    "tags": []
   },
   "source": [
    "<a href=\"https://ibb.co/thpDR4h\"><img src=\"https://i.ibb.co/V96wVFZ/Screen-Shot-2021-11-23-at-10-27-21.png\" alt=\"Screen-Shot-2021-11-09-at-19-19-03\" border=\"0\"></a>"
   ]
  }
 ],
 "metadata": {
  "kernelspec": {
   "display_name": "Python 3",
   "language": "python",
   "name": "python3"
  },
  "language_info": {
   "codemirror_mode": {
    "name": "ipython",
    "version": 3
   },
   "file_extension": ".py",
   "mimetype": "text/x-python",
   "name": "python",
   "nbconvert_exporter": "python",
   "pygments_lexer": "ipython3",
   "version": "3.7.12"
  },
  "papermill": {
   "default_parameters": {},
   "duration": 68.020668,
   "end_time": "2022-05-08T11:39:29.737871",
   "environment_variables": {},
   "exception": null,
   "input_path": "__notebook__.ipynb",
   "output_path": "__notebook__.ipynb",
   "parameters": {},
   "start_time": "2022-05-08T11:38:21.717203",
   "version": "2.3.4"
  }
 },
 "nbformat": 4,
 "nbformat_minor": 5
}
